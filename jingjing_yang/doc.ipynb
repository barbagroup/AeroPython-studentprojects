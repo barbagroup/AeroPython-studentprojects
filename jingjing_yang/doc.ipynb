{
 "metadata": {
  "name": "",
  "signature": "sha256:ee14be9abe6bae855389e41d9e7753c29e59ec9995e2d9925a3739ee21f21484"
 },
 "nbformat": 3,
 "nbformat_minor": 0,
 "worksheets": [
  {
   "cells": [
    {
     "cell_type": "heading",
     "level": 1,
     "metadata": {},
     "source": [
      "An Lifting-Line Approach to Unsteady Panel Method with Application on An Inclined Flat Plate"
     ]
    },
    {
     "cell_type": "heading",
     "level": 4,
     "metadata": {},
     "source": [
      "Jingjing Yang, MAE, George Washington University"
     ]
    },
    {
     "cell_type": "markdown",
     "metadata": {},
     "source": [
      "To capture the wake effect in an unsteady motion, an unsteady panel method is implemented. The numerical experiment is conducted on a flat plate with imposed motion trajectory. A series of discrete vortex, or a vortex sheet, are employed to represent an infinitely thin lifting surface (the flat plate). The effect of thickness can be included by collocating a source on the same control point as the vortex, but not discussed here either."
     ]
    },
    {
     "cell_type": "code",
     "collapsed": false,
     "input": [
      "from functions_jy import *"
     ],
     "language": "python",
     "metadata": {},
     "outputs": [],
     "prompt_number": 1
    },
    {
     "cell_type": "heading",
     "level": 2,
     "metadata": {},
     "source": [
      "What Would Happen if Suddenly Changing the Angle of Attack in Steady Potential Flow"
     ]
    },
    {
     "cell_type": "markdown",
     "metadata": {},
     "source": [
      "We do not simulate the wake in a steady state potential flow solution because observing from outside of the boundary layer, the net vorticity is zero in this region. This assumption becomes inadequate if the airfoil experiences a sudden change of angle of attack. Assume there is no lag in response of the system.\n",
      "</center>![image](files/figures/starting_v.png)</center>\n",
      "Fig. *unsteady potential flow around an airfoil*. Credit: soliton.ae.gatech.edu/#unstaf\n",
      "\n",
      "The resulted flow field is depicted in the lower part of the figure above. The variation of circulation will break the balance of the top and bottom parts of the wake. The wake will rolls up into a vortex with stength of $-\\gamma = \\gamma_0 - \\gamma_1$, due to the increase of angle of attack. The additional vorticity comes from the dissipation of kinetic energy in the boundary layer."
     ]
    },
    {
     "cell_type": "heading",
     "level": 2,
     "metadata": {},
     "source": [
      "Linearized Thoery"
     ]
    },
    {
     "cell_type": "markdown",
     "metadata": {},
     "source": [
      "\n",
      "</center>![image](files/figures/2dfoil.png)</center>\n",
      "Fig. *Illustration of 2D airfoil section*. Origin is at the mid-chord. Credit: www.wikimedia.org/#airfoilgeometry\n",
      "\n",
      "The figure above characterizes a 2D wing section with *mean line profile* f(x) (No. 8 in the figure) and symmetric *thickness profile* t(x) (No.5 in the figure). The geometry of the top/bottom surface can be given:\n",
      "$$(x_t, y_t) = (x-\\frac{t(x)}{2} \\sin{ \\theta}, f(x) + \\frac{t(x)}{2} \\cos{\\theta} ) $$\n",
      "$$(x_b, y_b) = (x+\\frac{t(x)}{2} \\sin{ \\theta}, f(x) - \\frac{t(x)}{2} \\cos{\\theta} ) $$\n",
      "\n",
      "where $\\theta = \\arctan{ \\frac{df}{dx} }$ is the gradient of the mean line profile. \n",
      "\n",
      "Let $u$ and $v$ be the velocity perturbation resulted from the presence of an airfoil. The flow field can be considered a superposition of this perturbation and free-stream flow. The velocity tangency condition requires that velocity vector on the top and bottom surface align with the gradient of the geometry.\n",
      "\n",
      "$$ \\frac{dy_t}{dx} = \\frac{U\\sin{\\alpha}+v_t}{U\\cos{\\alpha}+u_t}  $$\n",
      "$$ \\frac{dy_b}{dx} = \\frac{U\\sin{\\alpha}+v_b}{U\\cos{\\alpha}+u_b}  $$\n",
      "\n",
      "where $U$ and $\\alpha$ are the magnitude and angal of attack of the incoming free-stream flow"
     ]
    },
    {
     "cell_type": "heading",
     "level": 3,
     "metadata": {},
     "source": [
      "A Linearized Solution"
     ]
    },
    {
     "cell_type": "markdown",
     "metadata": {},
     "source": [
      "A linearized soluion is obtained in the context of three assumptions, which are small angle of attack $\\alpha$, small, thin foil and small mean line gradient $\\theta$. Since $\\alpha$ is small, $\\cos{\\alpha} \\approx 1$, and $\\sin{\\alpha} \\approx \\alpha$. The thin foil assumption makes the veclotiy perturbation small compared to the free-stream flow.\n",
      "Therefore, the coordinates become:\n",
      "$$ y_t = f(x) + \\frac{t(x)}{2}  $$\n",
      "$$ y_b = f(x) - \\frac{t(x)}{2}  $$\n",
      "Apply these assumptions to the flow tangency condition:\n",
      "\n",
      "$$ \\frac{dy_t}{dx} = \\frac{d}{dx}[ f(x)+\\frac{t(x)}{2} ] = \\frac{U\\alpha + v^{+}(x)}{U}, y=0$$\n",
      "$$ \\frac{dy_b}{dx} = \\frac{d}{dx}[ f(x)-\\frac{t(x)}{2} ] = \\frac{U\\alpha + v^{-}(x)}{U}, y=0$$\n",
      "\n",
      "The boundary condition is no longer applied to the actual upper and lower surface, instead on the mean line. This will also bring the benefit of easily enforcing Kutta condition by making $\\gamma(-\\frac{c}{2}) = 0$. $v^{+}$ and $v^{-}$ are the velocity perturbation evaluated just above and below the surface. They can be formally derived if streamlines are desired. In this study,the parameter of interest is $v^{+}+v^{-}$, instead of the specific value of themselves.\n",
      "\n",
      "If taking half of the summation of above equations:\n",
      "\n",
      "$$    \\frac{df(x)}{dx} = \\alpha+\\frac{v^{+}+v^{-}}{2U}    $$\n",
      "\n",
      "It is shown that the mean vertical velocity perturbation across the foil along $x$ axis is determined by the mean line profile. This result suggests that we can produce desired $v(x)$ behavior by placing a series of vortex along the mean line."
     ]
    },
    {
     "cell_type": "heading",
     "level": 3,
     "metadata": {},
     "source": [
      "Vortex Distribution"
     ]
    },
    {
     "cell_type": "markdown",
     "metadata": {},
     "source": [
      "The velocity distribution of a vortex sheet with constant strength $\\gamma$ per unit length is \n",
      "\n",
      "$$ u(x,y) = \\frac{-1}{2\\pi} \\int_{-c/2}^{c/2} \\frac{\\gamma y}{(x-\\xi)^2+y^2} d\\xi = -\\frac{\\gamma}{2\\pi}[\\tan^{-1}{\\frac{y}{x-c/2}} - \\tan^{-1}{\\frac{y}{x+c/2}}]  $$\n",
      "$$ v(x,y) = \\frac{1}{2\\pi} \\int_{-c/2}^{c/2} \\frac{\\gamma (x-\\xi)}{(x-\\xi)^2+y^2} d\\xi = -\\frac{\\gamma}{4\\pi} \\ln [\\frac{(x-c/2)^2+y^2}{(x+c/2)^2+y^2}]$$\n",
      "\n",
      "Discontinuity exist in $u$ velocity from our experience in the previous lectures. By applying a Stoke's theorem to the bounded vorticity (curl of velocity), we can prove that the magnitude of the jump is equal to the strength of the vortex.\n",
      "\n",
      "$$ \\int_{\\Omega} \\gamma d\\Omega = \\int_{\\partial \\Omega} u^{-}dx + u^{+}(-dx) $$\n",
      "$$ \\gamma = u^{-} - u^{+} $$\n",
      "\n",
      "Plugging the eqution of $v(x,0)$ back to the conclusion of previous section, we can get\n",
      "\n",
      "$$ \\frac{df(x)}{dx} - \\alpha = \\frac{1}{2\\pi U} \\int_{-c/2}^{c/2} {\\frac{\\gamma(\\xi)}{x-\\xi} d\\xi} $$\n",
      "\n",
      "This means that the vortex distribution is solely dependent on mean line profile $f(x)$ and angle of attack $\\alpha$. Therefore the lift depends only on $f(x)$ and $\\alpha$."
     ]
    },
    {
     "cell_type": "heading",
     "level": 3,
     "metadata": {},
     "source": [
      "Glauert's Theory"
     ]
    },
    {
     "cell_type": "markdown",
     "metadata": {},
     "source": [
      "Velocity field induced by the vortex distribution over the chord must satisfy the boundary condition above\n",
      "\n",
      "$$  v(x,0) = \\frac{1}{2\\pi} \\int_{-c/2}^{c/2} {\\frac{\\gamma(\\xi)}{x-\\xi} d\\xi}  = U(\\frac{df(x)}{dx} - \\alpha) $$\n",
      "\n",
      "Glauert assumes the vortex distribution that can be represented by a series of expansion in a transformed coordinate:\n",
      "\n",
      "$$ x = -\\frac{c}{2}\\cos{\\tilde{x}} $$\n",
      "\n",
      "The expansion takes the form:\n",
      "\n",
      "$$    \\gamma(\\tilde{x}) = -2U\\{ a_0 \\frac{1+\\cos{\\tilde{x}}}{\\sin{\\tilde{x}}} + \\sum_{n}^{\\infty}a_n \\sin{n \\tilde{x}} \\}   $$\n",
      "\n",
      "It is shown that at trailing edge $x=-\\frac{c}{2}$, $\\tilde{x}=\\pi$, all terms in the above formulation vanishes, thus Kutta condition is retained. Lift and mean line profile can also benefit from this Fourier-like expansion, using the fact that $\\sin{kx}, k=1,N$ is orthogonal to all $\\sin{kx}$ over $[0,\\pi]$ besides itself. They take a simple form respectively:\n",
      "\n",
      "$$  L=\\rho c U^2 \\{  \\pi a_0 + \\frac{\\pi}{2} a_1  \\}$$\n",
      "$$ \\frac{df}{dx} = \\alpha + a_0 + \\sum_n^{\\infty} \\cos{n \\tilde{x}} $$\n",
      "\n",
      "Then it can be applied to the case of a flate plate, which is supposed to have a constant mean line gradient $\\frac{df}{dx}$. The coefficients is obtained as $a_0 = \\alpha$, $a_n = 0$ for all $n>0$"
     ]
    },
    {
     "cell_type": "heading",
     "level": 3,
     "metadata": {},
     "source": [
      "Note on Accurarcy"
     ]
    },
    {
     "cell_type": "markdown",
     "metadata": {},
     "source": [
      "Linear thoery separates the correlation of $f(x)-L$ and $\\sigma-$thickness. A Fourier-like expansion can be obtained in a similar fashion as the mean line profile in the above section. A desired foil shape can be produced by a superposition of the mean line profile and thickness profile. While the samll velocity perturbation assumption becomes invalid around a sharp leading edge, or the stagnation point of a rounded leading edge, where $\\theta$ and $\\sigma$ are not small. Corrections have to be made near the leading edge, if a wing section other than the flat plate is desired. It is first solved by Lighthill 59' then improved by a number of others. See reference for detail implementations."
     ]
    },
    {
     "cell_type": "heading",
     "level": 2,
     "metadata": {},
     "source": [
      "Location of Control Point and Vortex Location"
     ]
    },
    {
     "cell_type": "markdown",
     "metadata": {},
     "source": [
      "</center>![image](files/figures/v_distribution_cmp.png)</center>\n",
      "Fig. Comparison of vortex strength distribution between different type of mean line shape. Credit: Abbott and Von Doenhoff,Theory of Wing Sections, Dover 1959\n",
      "\n",
      "Interestingly from the above figure, the slope of the flat plate, parabolic mean line profile and the NACA a0.8 (a common choice for ship propellor in the 60s) are all about the same at 1/4-chord. This leads to proof by James 72' that the optimal location of control point are the same on each panel. This study adopts this placement that 1/4-chord vortex points and 3/4-chord control points."
     ]
    },
    {
     "cell_type": "heading",
     "level": 2,
     "metadata": {},
     "source": [
      "Free Vortex in the Wake"
     ]
    },
    {
     "cell_type": "markdown",
     "metadata": {},
     "source": [
      "Kelvin's theorem requires the circulation of a bounded contour moving with fluid to be constant, $\\frac{D\\Gamma}{Dt} = 0$. When the bounded vorticity changes, an equal and opposite amount of vorticity must be shed into the wake. Stated mathematcially,\n",
      "\n",
      "$$ \\Delta \\Gamma = \\Gamma_{bound} - \\Gamma_{w} = 0$$\n",
      "\n",
      "Free vortex is generated in the wake at each time step. Each newly generated vortex is added to the linear system and will have influence on all other vortex, on the body or in the wake. According the Helmholtz theorem, the strenght of the shedded vortex will not change once created. The shedded vortex does not bear any aerodynamic load, can freely convect with the free-stream at $u_{\\infty}$. The velocity of free vortex in the wake is calculated at the exact location of wake vortex, which is a point vortex. The displacement of a wake vortex in one time step is therefore\n",
      "\n",
      "$$  (\\Delta x, \\Delta y) = (u_w, v_w) \\cdot \\Delta t    $$\n",
      "\n",
      "Given the above discussion, the position of the wake vortex (first row, and subsequent vortex) as well as the strength $\\Gamma_w$ are considered known. They should be moved the RHS during the formulation of the linear system."
     ]
    },
    {
     "cell_type": "heading",
     "level": 2,
     "metadata": {},
     "source": [
      "Building Linear System"
     ]
    },
    {
     "cell_type": "markdown",
     "metadata": {},
     "source": [
      "Velocity at each control point on the flate plate consist of three parts: free-stream velocity, velocity induced by vortex on the flate plate and velocity induced by the wake vortex.\n",
      "\n",
      "$$   V(x_c) = V_{\\infty} + V_b + V_w      $$\n",
      "\n",
      "The flow tangency condition requires the normal velocity on the boundary to be zero. In the case of a flate plate under the context of linear theory, this B.C. can be enforced on the mean line, where $y=0$. This condition can be evaluated by taking the normal of the above equation.\n",
      "\n",
      "$$ 0 = (V_{\\infty} + V_b + V_w) \\cdot \\vec{n_{x_c}}         $$\n",
      "\n",
      "Since the position and strength of the free vortex in the wake are known, $V_w \\cdot \\vec{n_{x_c}}$ can be moved to the RHS. Induced velocity by the wake vortex is calcuated by the Biot-Savart Law\n",
      "\n",
      "$$ RHS_k =  \\sum_j^{n} \\frac{1}{2\\pi} \\int_{-c/2}^{c/2} {\\frac{\\partial}{\\partial n_j} \\frac{\\gamma_{w_j}}{x_k-\\xi_j} d\\xi} + V_{\\infty}\\cos{\\alpha}    $$\n",
      "\n",
      "Note that the integration limit is from $-c/2$ to $c/2$, a coordinate transformation is needed in facilitating the integraion. The benefit of doing so is that the integration is always done on the reference state, regardless the motion of the flate plate."
     ]
    },
    {
     "cell_type": "code",
     "collapsed": false,
     "input": [
      "def rhs(x,y,theta,u0,v0,dthdt,F,gamma_t):\n",
      "    \"\"\"\n",
      "    parameters:\n",
      "    x, y: coordinate of panel end points\n",
      "    theta: angle of attack times -1\n",
      "    u0,v0,dthdt: instantaneous velocity gradient of the plate,\n",
      "                 u0,v0 is translational, dthdt is rotational\n",
      "    gamma_t: vortex strength of the newly greated free vortex in the wake\n",
      "    \"\"\"\n",
      "    n      = x.size\n",
      "    np     = n-1\n",
      "    [m,cc] = F[1].shape\n",
      "    b      = numpy.zeros(n)\n",
      "    b[n-1] = gamma_t\n",
      "\n",
      "    for i in range(np):\n",
      "        \n",
      "        #control point is taken at 3/4-chord \n",
      "        xn=0.25*x[i]+0.75*x[i+1]\n",
      "        yn=0.25*y[i]+0.75*y[i+1]\n",
      "\n",
      "        r = numpy.sqrt((x[i+1]-x[i])**2+(y[i+1]-y[i])**2)\n",
      "\n",
      "        nx=-(y[i+1]-y[i])/r; ny=(x[i+1]-x[i])/r;\n",
      "\n",
      "        M = numpy.empty((2,2))\n",
      "        M = numpy.array( [ [ numpy.cos(theta), numpy.sin(theta)],\n",
      "                           [-numpy.sin(theta), numpy.cos(theta)] ])\n",
      "\n",
      "        r1 =-M.dot( numpy.array([u0,v0]) )\n",
      "        r2 =-dthdt*numpy.array([-(yn-0.),xn-0.])\n",
      "        r  = r1+r2\n",
      "\n",
      "        u = r[0]\n",
      "        v = r[1]\n",
      "\n",
      "\n",
      "        u1=0; v1=0;\n",
      "        for j in range(1,m):\n",
      "            [u2,v2] = vortex2d(xn,yn,F[1][j,0],F[1][j,1],F[1][j,2])\n",
      "            u1=u1+u2; v1=v1+v2;\n",
      "\n",
      "        u = u+u1; v = v+v1;\n",
      "\n",
      "        b[i]=-u*nx-v*ny;\n",
      "\n",
      "    return b"
     ],
     "language": "python",
     "metadata": {},
     "outputs": []
    },
    {
     "cell_type": "markdown",
     "metadata": {},
     "source": [
      "Since the vortex strength on the plate is the only unknown and they are constant over each panel, $\\gamma_{b_j}$ can be taken out of the integration and form a solution vector. The coefficient part of $\\gamma_{b_j}$ forms the coefficient matrix. The LHS of the $k$-th equation is evaluated by\n",
      "\n",
      "$$  A_k = (u_{b_k}, v_{b_k}) \\cdot \\vec{n_k}      $$\n",
      "$$  A_k = \\sum_j^{n} \\frac{-1}{2\\pi} \\int_{-c/2}^{c/2} \\frac{\\gamma_{b_j} y}{(x-\\xi)^2+y^2} d\\xi \\cdot \\vec{n_x} + \\sum_j^{n} \\frac{1}{2\\pi} \\int_{-c/2}^{c/2} \\frac{\\gamma_{b_j} (x-\\xi)}{(x-\\xi)^2+y^2} d\\xi \\cdot \\vec{n_y}   $$"
     ]
    },
    {
     "cell_type": "code",
     "collapsed": false,
     "input": [
      "def coeff_matrix(x,y,xw,yw):\n",
      "    \"\"\"\n",
      "    xw,yw: newly generated free vortex in the wake\n",
      "    \"\"\"\n",
      "    n = x.size\n",
      "    np= n-1\n",
      "    A = numpy.zeros((n,n),dtype=float)\n",
      "\n",
      "    #Kelvin's circulation theorem\n",
      "    A[-1,:] = numpy.ones(n)\n",
      "\n",
      "    for i in range(np):\n",
      "\n",
      "        #control point at 3-quarter of each panel, V.M. Falker, 46'\n",
      "        xn = 0.25*x[i]+0.75*x[i+1]\n",
      "        yn = 0.25*y[i]+0.75*y[i+1]\n",
      "\n",
      "        #normal of i-th panel\n",
      "        r = numpy.sqrt((x[i+1]-x[i])**2+(y[i+1]-y[i])**2)\n",
      "\n",
      "        nx= -(y[i+1]-y[i])/r\n",
      "        ny=  (x[i+1]-x[i])/r\n",
      "\n",
      "        for j in range(np):\n",
      "\n",
      "            #vortex locate at 1/4-length of each panel, V.M. Falker, 46'\n",
      "            xc = 0.75*x[j]+0.25*x[j+1]\n",
      "            yc = 0.75*y[j]+0.25*y[j+1]\n",
      "\n",
      "            #velocity induced on the control point of i-th panel by the j-th vortex\n",
      "            [u,v] = vortex2d(xn,yn,xc,yc,1.)\n",
      "\n",
      "            A[i,j] = u*nx + v*ny\n",
      "\n",
      "\n",
      "        #influence in the wake\n",
      "        [u,v] = vortex2d(xn,yn,xw,yw,1.)\n",
      "\n",
      "        A[i,-1] = u*nx+v*ny\n",
      "\n",
      "    return A"
     ],
     "language": "python",
     "metadata": {},
     "outputs": []
    },
    {
     "cell_type": "markdown",
     "metadata": {},
     "source": [
      "A linear system need to be solved at each time step to obtain the vortex strength distribution on the plate. Once created, the wake vortex can convect freely with the free-stream flow. Its influence on the bounded body needs to be included in the linear system for all the future time step. A simple Euler method is sufficient as the time-marching scheme, which is first order in time and explicit."
     ]
    },
    {
     "cell_type": "code",
     "collapsed": false,
     "input": [
      "\n",
      "animate_wake()"
     ],
     "language": "python",
     "metadata": {},
     "outputs": []
    },
    {
     "cell_type": "markdown",
     "metadata": {},
     "source": [
      "</center>![image](files/figures/result4.png)</center>\n",
      "Fig. \"Rolling-up\" wake at the final time of the simultaion"
     ]
    },
    {
     "cell_type": "heading",
     "level": 1,
     "metadata": {},
     "source": [
      "Reference"
     ]
    },
    {
     "cell_type": "markdown",
     "metadata": {},
     "source": [
      "J.Katz and A. Plotkin, Low-Speed Aerodynamics, From Wing Theory to Panel Methods, McGraw Hill, 1991\n",
      "\n",
      "H. Glauert, The Elements of Aerofoil and Airscrew Theory, Cambridge University Press, 1926\n",
      "\n",
      "Lighthill,M.J., A New Approach to Thin Aerofoil Theory, Aero. Quart, 1959\n",
      "\n",
      "James,R.M., On the Remarkable Accuracy of the Vortex Lattice Method, Comput. Methods. Appl. Mech. Eng. Vol.1, 1972\n"
     ]
    },
    {
     "cell_type": "code",
     "collapsed": false,
     "input": [
      "from IPython.core.display import HTML\n",
      "def css_styling():\n",
      "    styles = open('custom.css', 'r').read()\n",
      "    return HTML(styles)\n",
      "css_styling()"
     ],
     "language": "python",
     "metadata": {},
     "outputs": []
    }
   ],
   "metadata": {}
  }
 ]
}