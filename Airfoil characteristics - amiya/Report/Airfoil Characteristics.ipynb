{
 "metadata": {
  "name": "",
  "signature": "sha256:186399526e065a50dc75610488e4a1af4fe098ec747660140e040ad08d5efac3"
 },
 "nbformat": 3,
 "nbformat_minor": 0,
 "worksheets": [
  {
   "cells": [
    {
     "cell_type": "heading",
     "level": 1,
     "metadata": {},
     "source": [
      "A study into airfoil geometry using panel methods"
     ]
    },
    {
     "cell_type": "markdown",
     "metadata": {},
     "source": [
      "Serious study into the effects of airfoil sections began almost 200 years ago. While it was known that flat plates could generate lift, theorizing that the curved shapes of bird wings may be more efficient in generating lift, researchers began looking at more curved or cambered surfaces. Otto Lilienthal was the first to conduct meticulous and properly documented experiments on airfoil shapes. Lilienthal experimented on varying camber, the nose radii and thickness distribution.\n",
      "\n",
      "Most airfoils developed during the years after Lilienthal, were designed through trial and error. Some of these designs lay the foundation for the NACA series of airfoils that are predominantly used in modern aircrafts."
     ]
    },
    {
     "cell_type": "heading",
     "level": 3,
     "metadata": {},
     "source": [
      "Objective"
     ]
    },
    {
     "cell_type": "markdown",
     "metadata": {},
     "source": [
      "The effects of changing specific geometric parameters are studied using NACA 4 ***and 5 series airfoils***. The effects on maximum lift, drag, stall characteristics and pitching moment are all taken into account. ***A further analysis is done on airfoil selection***. \n",
      "Using these results, the objective is to gain an intuitive understanding of the type of geometry that may meet the design requirements for a specific aircraft.\n"
     ]
    },
    {
     "cell_type": "heading",
     "level": 3,
     "metadata": {},
     "source": [
      "Analysis"
     ]
    },
    {
     "cell_type": "markdown",
     "metadata": {},
     "source": [
      "For the most part, XFLR5 will be used for analysis, in order to  study stall characteristics. The geometric parameters used as variables will be;\n",
      "\t- camber\n",
      "\t- location of max camber\n",
      " \t- max thickness\n",
      "\t- leading edge radii\n",
      "\t- thickness distribution\n",
      "\n",
      "The thickness distribution is specific to each family of airfoil. The modified series of NACA 4 and 5 digit airfoils change their thickness distribution by changing the leading edge radius and location of maximum thickness.\n",
      "\n",
      "All of the simulations are carried out at speeds of Mach 0.14 and a Reynold's number of 3 million exactly. These values are typical for light, acrobatic aircrafts which commonly use symmetric airfoils like the NACA0012 and 0015.\n"
     ]
    },
    {
     "cell_type": "heading",
     "level": 3,
     "metadata": {},
     "source": [
      "NACA Airfoils"
     ]
    },
    {
     "cell_type": "markdown",
     "metadata": {},
     "source": [
      "Most airfoil sections  in use today are either of the NACA series or are heavily influenced by them. They were the first to seperate the effects of camber and thickness distribution.  NACA airfoils are the easiest to find and their geometry is easy to reproduce using their numbering system. This study will thus focus on the 4 ***and 5*** digit series of NACA airfoils."
     ]
    },
    {
     "cell_type": "heading",
     "level": 3,
     "metadata": {},
     "source": [
      "Description of airfoil geometry"
     ]
    },
    {
     "cell_type": "markdown",
     "metadata": {},
     "source": [
      "<img src=\"airfoil section2.gif\">"
     ]
    },
    {
     "cell_type": "heading",
     "level": 6,
     "metadata": {},
     "source": [
      "*Above image courtesy of - https://www.grc.nasa.gov/WWW/k-12/airplane/geom.html"
     ]
    },
    {
     "cell_type": "markdown",
     "metadata": {},
     "source": [
      "**chord** - a straight line connecting the leading and trailing edges of an airfoil <br>\n",
      "**mean camber line** - a line connecting the leading and trailing edges, which is always equidistant from the top and bottom surfaces of the airfoil.<br>\n",
      "**camber** - the maximum distance between the chord and mean camber line<br>\n",
      "**max thickness** - the maximum distance between the upper and lower surfaces of the airfoil<br>\n",
      "**leading edge radius** - the radius of the curvature of the leading edge. For a sharp leading edge shape, this is zero.<br>\n",
      "**Thickness distribution** - the thickness distribution for the NACA 4 and 5 digit series is defined by the following equation:\n",
      "\n",
      "<img src=\"equations/thickness distribution abbott.gif\"/>\n",
      "\n",
      "This equation was derived from the thickness distributions of effecient wing sections such as the Gottingen and Clark Y. Changing the leading edge radius ends up changing this distribution. This was studied in the modified NACA 4 and 5 digit series which will be discussed later."
     ]
    },
    {
     "cell_type": "heading",
     "level": 3,
     "metadata": {},
     "source": [
      "NACA 4 digit series"
     ]
    },
    {
     "cell_type": "markdown",
     "metadata": {},
     "source": [
      "The 4 digit wing profile is defined by the following:\n",
      "1) The first digit describes the max camber as a percent of the chord\n",
      "2) The second digit describes the distance of the max camber from the leading edge as a percent of the chord\n",
      "3) The last two digits describe the maximum thickness of the airfoil as a percent of the chord\n",
      "By default, 4 digit series airfoils have a maximum thickness at 30% of the chord.\n",
      "For a symmetric airfoil, the airfoil geometry is defined simply by:\n",
      "\n",
      "   <img src=\"equations/NACA 4 symmetric/xl.gif\"/>   <img src=\"equations/NACA 4 symmetric/xu.gif\"/> <img src=\"equations/NACA 4 symmetric/yl-sym.gif\"/> <img src=\"equations/NACA 4 symmetric/yu-sym.gif\"/>\n",
      "   \n",
      "Where the index 'u' and 'l' denotes the upper and lower surfaces respectively. 'yt' is the airfoil thickness as a function of x, shown previously. Theta goes from 0 to 2*pi(*).\n",
      "For a cambered airfoil, the mean camber line, yc, must be included. The equation for the mean camber line is;\n",
      "Forward of maximum camber;\n",
      "\n",
      "<img src=\"equations/NACA 4 symmetric/yc for.gif\"/>\n",
      "\n",
      "Aft of maximum camber;\n",
      "<img src=\"equations/NACA 4 symmetric/yc aft.gif\"/>\n",
      "Where;\n",
      "m = maximum ordinate of mean line expressed as a fraction of the chord ( 100*m is the first of the four digits)\n",
      "p = position of maximum camber as a fraction of the chord (10*p is the second of the four digits)\n",
      "\n",
      "Using this equation, the previous equation for the y-coordiantes are modified;\n",
      "<img src=\"equations/NACA 4 symmetric/yl.gif\"/> <img src=\"equations/NACA 4 symmetric/yu.gif\"/>\n",
      "\n",
      "$\\theta$ is given by;\n",
      "<img src=\"equations/NACA 4 symmetric/theta.gif\"/>\n",
      "Which, after differentiation, gives us;\n",
      "<img src=\"equations/NACA 4 symmetric/theta2.gif\"/>"
     ]
    },
    {
     "cell_type": "heading",
     "level": 3,
     "metadata": {},
     "source": [
      "Results"
     ]
    },
    {
     "cell_type": "heading",
     "level": 4,
     "metadata": {},
     "source": [
      "Effects of max camber"
     ]
    },
    {
     "cell_type": "markdown",
     "metadata": {},
     "source": [
      "The following NACA 4 digit airfoils are all of 12 % thickness with the maximum camber located at 40% of the chord, from the leading edge.\n",
      "\n",
      "**Lift Curve**\n",
      "<img src=\"camber/NACA 4 series/cl-a2.bmp\"/>\n",
      "The graph above shows that the lift curve is shifted upward with increasing camber. There is no apparent change in the lift slope or the stall angle. In other words, the basic equation for the lift slope changes from;\n",
      "<img src=\"equations/NACA 4 symmetric/basic lift sym.gif\"/>\n",
      "To;\n",
      "<img src=\"equations/NACA 4 symmetric/basic lift cam.gif\"/>\n",
      "Where 'a`o`' is the lift slope, and C`lo` is the lift at zero angle of attack.\n",
      "\n",
      "**Drag**\n",
      "<img src=\"camber/NACA 4 series/cd-a.bmp\"/>\n",
      "<img src=\"camber/NACA 4 series/cd-cl.bmp\"/>\n",
      "The lift to drag ratio, or the glide-ratio (An important parameter for gliders) also sees a marked improvement with increasing camber. It is interesting to note that the highest lift-drag ratio occurs at an angle of around 5 degrees for most of the airfoils. For the zero camber and the really low cambered airfoil, it is closer to 10 degrees. The performance of the higher cambered airfoils are still greater at that point.\n",
      "The range of C`l`, over which drag variation is close to zero is also shown to increase with camber. This gives better cruise performance, as it allows an aircraft to change it's angle of attack over a wider range without experiencing change in drag, and thus, reducing the need for throttle control.\n",
      "\n",
      "**Pitching moment**\n",
      "<img src=\"camber/NACA 4 series/cm-a.bmp\"/>\n",
      "The pitching moment graph clearly shows more negative moments with increasing camber. This would likely lead to better stability, as the aircraft will naturally tend to pitch nose down. Looking at this graph, it is clear why sports aircraft prefer to use symmetric airfoils for their main wing, instead of the higher lift, cambered airfoils.\n",
      "While the pitching moment fluctuations remain relatively  small, higher camber seems to increase the amplitude of the fluctuations towards the stall angle."
     ]
    },
    {
     "cell_type": "code",
     "collapsed": false,
     "input": [
      "Effects of camber location"
     ],
     "language": "python",
     "metadata": {},
     "outputs": [
      {
       "ename": "SyntaxError",
       "evalue": "invalid syntax (<ipython-input-28-4ee13e94d52a>, line 1)",
       "output_type": "pyerr",
       "traceback": [
        "\u001b[1;36m  File \u001b[1;32m\"<ipython-input-28-4ee13e94d52a>\"\u001b[1;36m, line \u001b[1;32m1\u001b[0m\n\u001b[1;33m    Effects of camber location\u001b[0m\n\u001b[1;37m             ^\u001b[0m\n\u001b[1;31mSyntaxError\u001b[0m\u001b[1;31m:\u001b[0m invalid syntax\n"
       ]
      }
     ],
     "prompt_number": 28
    },
    {
     "cell_type": "markdown",
     "metadata": {},
     "source": [
      "The following simulations were ran using NACA 4 digit airfoils with 12% thickness and 3%camber.\n",
      "\n",
      "**Lift**\n",
      "<img src=\"camber loc/cl-a2.bmp\"/>\n",
      "<img src=\"camber loc/cl-a zoom.gif\"/>\n",
      "\n",
      "The effects of changing the camber location appear to less straightforward than simply increasing the camber. In the linear part, the Cl seems to increase with increasing distance of the max camber from the leading edge. The zero degree angle lift for camber at 70%, is almost three times higher than the Cl at 10% camber location. Considering this, it makes sense to locate high-lift devices (i.e, flaps, elevators, etc.) at the trailing edge of the wing. \n",
      "Towards stall however, the behaviour is a bit more interesting. Zooming in towards that region, we can see the Cl increasing on either side of the mid point mark of the chord. The Cl decreases from from 10% to 40% camber location, but then starts increasing past 50%. This suggests a decrease in the lift slope as the camber moves towards the trailing edge.\n",
      "\n",
      "**Drag**\n",
      "\n",
      "<img src=\"camber loc/drag.bmp\"/>\n",
      "<img src=\"camber loc/cd-a zoom.gif\"/>\n",
      "\n",
      "The drag chart shows that the drag seems to be higher towards he extremities of the airfoil. The drag is decreasing as the camber moves towards the 50% mark and then starts to increase again, past that.\n",
      "\n",
      "<img src=\"camber loc/cd-cl.bmp\"/>\n",
      "\n",
      "The range of minimum drag Cl also appears to increase when moving the camber back. The value of the maximum lift-drag ratio, however, decreases, especially at the 50% mark. The angle at which this maximum occurs also decreases towards the trailing edge location.\n",
      "\n",
      "**Pitching Moment**\n",
      "<img src=\"camber loc/cm-a.gif\"/>\n"
     ]
    },
    {
     "cell_type": "heading",
     "level": 3,
     "metadata": {},
     "source": [
      "Effect of max Thickness"
     ]
    },
    {
     "cell_type": "markdown",
     "metadata": {},
     "source": [
      "Symmetric NACA 4 digit airfoils were used to analyse the effect of maximum thickness.\n",
      "<img src=\"max thickness/NACA 4 series/legend.gif\"/>\n",
      "\n",
      "**Lift**\n",
      "<img src=\"max thickness/NACA 4 series/cl-a.gif\"/>\n",
      "\n",
      "Increasing the maximum thickness seems to simultaneously increase the maximum lift cofficient, while decreasing the life-slope.\n",
      "\n",
      "**Drag**\n",
      "<img src=\"max thickness/NACA 4 series/cd-a.gif\"/>\n",
      "<img src=\"max thickness/NACA 4 series/cl-Cd-a.gif\"/>\n",
      "\n",
      "The drag is higher for higher thickness up until the stall angle. Since the thinner airfoils stall earlier, their drag increases faster with angle of attack. The lift-drag ratio graph, however, shows more favorable results for relatively thinner airfoils.\n",
      "\n",
      "<img src=\"max thickness/NACA 4 series/cd-cl.gif\"/>\n",
      "\n",
      "The minimum drag, Cl range appears to increase inversely to thickness with the exception of the NACA 0012. This is likely because it stalls much earlier than the rest, being the thinnest airfoil in this group.\n",
      "\n",
      "**Pitching Moment**\n",
      "\n",
      "<img src=\"max thickness/NACA 4 series/cm-a.gif\"/>\n",
      "\n",
      "The pitching moments is seen to become more positive, i.e., more unstable as the airfoil thickness increases."
     ]
    },
    {
     "cell_type": "heading",
     "level": 3,
     "metadata": {},
     "source": [
      "Effect of leading edge radius"
     ]
    },
    {
     "cell_type": "markdown",
     "metadata": {},
     "source": [
      "The following simulations use the NACA 0012 airfoil. The leading edge radius was modified using a multiplier, i.e., 0.25r is a quarter of the original leading edge radius of the NACA 0012.\n",
      "<img src=\"LE radii/legend.gif\"/>\n",
      "\n",
      "<img src=\"LE radii/cl-a.gif\"/>\n",
      "The results of this plot show that the airfoils with blunter leading edges have a higher stall angle, and thus, a higher maximum C`l`.\n",
      "\n",
      "<img src=\"LE radii/cd-a.gif\"/>\n",
      "<img src=\"LE radii/cl-cd-a.gif\"/>\n",
      "<img src=\"LE radii/cd-cl.gif\"/>\n",
      "\n",
      "Looking at the drag performance, strangely enough, it seems the blunter airfoils seem to have the better performance again. \n",
      "<img src=\"LE radii/cm-a.gif\"/>\n",
      "However, when it comes to pitching moment, it seems that the pitch gets more unstable with blunter leading edges."
     ]
    },
    {
     "cell_type": "heading",
     "level": 3,
     "metadata": {},
     "source": [
      "Modifying Panel Method Solver to include a NACA 4 digit airfoil generator"
     ]
    },
    {
     "cell_type": "markdown",
     "metadata": {},
     "source": [
      "An attempt was made to modifiy the existing panel codes from class to include a NACA 4 digit airfoil generator. The objective was to set a geometric parameter as a variable and find it's effects on various aerodynamic parameters. While the code gives results, they are very obviously not correct."
     ]
    },
    {
     "cell_type": "code",
     "collapsed": false,
     "input": [
      "import math\n",
      "import numpy as np\n",
      "from scipy import integrate\n",
      "import matplotlib.pyplot as plt"
     ],
     "language": "python",
     "metadata": {},
     "outputs": [],
     "prompt_number": 29
    },
    {
     "cell_type": "code",
     "collapsed": false,
     "input": [
      "#Generate airfoil\n",
      "c = 1.0            #chord\n",
      "thickness = 12.0     #thickness as a percent of chord\n",
      "camber = 0.0       #max camber as a percent of chord\n",
      "camber_loc = 1.0     #location of max camber as 1/10 percent of a chord\n",
      "\n",
      "t = thickness/100.0           #max thickness as a fraction of the chord\n",
      "m = camber/100.0\n",
      "p = camber_loc/10.0   \n",
      "\n",
      "r = 1.1019*t**2              #leading edge radius\n",
      "\n",
      "N = 101            #number of points describing airfoil\n",
      "\n",
      "#The chord line is split into three sections of varying point density\n",
      "#This is to allow control over the density distribution of the panels\n",
      "x_for = np.linspace(0,r,N/20)\n",
      "x_mid = np.linspace(r+r,(0.75*c)-r,1+(3*N/10))\n",
      "x_aft = np.linspace(r + 0.75*c, c, 3*N/20)\n",
      "x1 = np.append(x_for,x_mid)\n",
      "x_chord = np.append(x1,x_aft)\n",
      "\n",
      "#theta_l = np.linspace(np.pi, 2*np.pi, N/2)\n",
      "y_t = (t/0.2)*(0.2969*np.sqrt(x_chord) - 0.126*x_chord - 0.3516*x_chord**2 + 0.2843*x_chord**3 - 0.1015*x_chord**4)\n"
     ],
     "language": "python",
     "metadata": {},
     "outputs": [],
     "prompt_number": 30
    },
    {
     "cell_type": "code",
     "collapsed": false,
     "input": [
      "x_u = np.zeros(x_chord.size, dtype=float)\n",
      "y_u = np.zeros(x_chord.size, dtype=float)\n",
      "x_l = np.zeros(x_chord.size, dtype=float)\n",
      "y_l = np.zeros(x_chord.size, dtype=float)\n",
      "y_c = np.zeros(x_chord.size, dtype=float)\n",
      "dyc_dx = np.zeros(x_chord.size, dtype=float)\n",
      "\n",
      "for i in range(N/2-1):\n",
      "    if x_chord[i]>p*c:\n",
      "        y_c[i] = (m/(1-p)**2)*((1-(2*p))+(2*p*x_chord[i])-x_chord[i]**2)\n",
      "        dyc_dx[i] = (2*m/(1-p)**2)*(p-x_chord[i])\n",
      "    else:\n",
      "        y_c[i] = (m/p**2)*((2*p*x_chord[i])-x_chord[i]**2)\n",
      "        dyc_dx[i] = (2*m/p**2)*(p-x_chord[i])\n",
      "\n",
      "plt.plot(x_chord,y_c)"
     ],
     "language": "python",
     "metadata": {},
     "outputs": [
      {
       "metadata": {},
       "output_type": "pyout",
       "prompt_number": 31,
       "text": [
        "[<matplotlib.lines.Line2D at 0x1090dd68>]"
       ]
      },
      {
       "metadata": {},
       "output_type": "display_data",
       "png": "[encoded data removed]",
       "text": [
        "<matplotlib.figure.Figure at 0x10d75390>"
       ]
      }
     ],
     "prompt_number": 31
    },
    {
     "cell_type": "code",
     "collapsed": false,
     "input": [
      "#Creating the upper and lower surface coordinates\n",
      "x_u = x_chord - y_t*np.sin(np.arctan(dyc_dx))\n",
      "y_u = y_c + y_t*np.cos(np.arctan(dyc_dx))\n",
      "\n",
      "    \n",
      "x_l = x_chord + y_t*np.sin(np.arctan(dyc_dx))\n",
      "y_l = y_c - y_t*np.cos(np.arctan(dyc_dx))\n",
      "\n",
      "print x_l[0], y_l[0],x_u[0], y_u[0]\n",
      "print x_l[N/2], y_l[N/2],x_u[N/2], y_u[N/2]"
     ],
     "language": "python",
     "metadata": {},
     "outputs": [
      {
       "output_type": "stream",
       "stream": "stdout",
       "text": [
        "0.0 0.0 0.0 0.0\n",
        "1.0 -0.00126 1.0 0.00126\n"
       ]
      }
     ],
     "prompt_number": 32
    },
    {
     "cell_type": "code",
     "collapsed": false,
     "input": [
      "plt.scatter(x_l, y_l, color='#CD2305', marker='o')\n",
      "plt.scatter(x_u, y_u, marker='o' )"
     ],
     "language": "python",
     "metadata": {},
     "outputs": [
      {
       "metadata": {},
       "output_type": "pyout",
       "prompt_number": 33,
       "text": [
        "<matplotlib.collections.PathCollection at 0x10d8f978>"
       ]
      },
      {
       "metadata": {},
       "output_type": "display_data",
       "png": "[encoded data removed]",
       "text": [
        "<matplotlib.figure.Figure at 0xf6a5908>"
       ]
      }
     ],
     "prompt_number": 33
    },
    {
     "cell_type": "code",
     "collapsed": false,
     "input": [
      "x = np.concatenate((x_u,list(reversed(x_l))))\n",
      "y = np.concatenate((y_u,list(reversed(y_l))))\n",
      "\n",
      "\n",
      "# plots the geometry\n",
      "%matplotlib inline\n",
      "\n",
      "val_x, val_y = 0.1, 0.2\n",
      "x_min, x_max = x.min(), x.max()\n",
      "y_min, y_max = y.min(), y.max()\n",
      "x_start, x_end = x_min-val_x*(x_max-x_min), x_max+val_x*(x_max-x_min)\n",
      "y_start, y_end = y_min-val_y*(y_max-y_min), y_max+val_y*(y_max-y_min)\n",
      "\n",
      "size = 10\n",
      "plt.figure(figsize=(size, (y_end-y_start)/(x_end-x_start)*size))\n",
      "plt.grid(True)\n",
      "plt.xlabel('x', fontsize=16)\n",
      "plt.ylabel('y', fontsize=16)\n",
      "plt.xlim(x_start, x_end)\n",
      "plt.ylim(y_start, y_end)\n",
      "plt.scatter(x, y, color='k');"
     ],
     "language": "python",
     "metadata": {},
     "outputs": [
      {
       "metadata": {},
       "output_type": "display_data",
       "png": "[encoded data removed]",
       "text": [
        "<matplotlib.figure.Figure at 0xf3cbb00>"
       ]
      }
     ],
     "prompt_number": 34
    },
    {
     "cell_type": "code",
     "collapsed": false,
     "input": [
      "print x_u.size\n",
      "print x.size"
     ],
     "language": "python",
     "metadata": {},
     "outputs": [
      {
       "output_type": "stream",
       "stream": "stdout",
       "text": [
        "51\n",
        "102\n"
       ]
      }
     ],
     "prompt_number": 35
    },
    {
     "cell_type": "code",
     "collapsed": false,
     "input": [
      "class Panel:\n",
      "    \"\"\"Contains information related to one panel.\"\"\"\n",
      "    def __init__(self, xa, ya, xb, yb):\n",
      "        \"\"\"Creates a panel.\n",
      "        \n",
      "        Arguments\n",
      "        ---------\n",
      "        xa, ya -- Cartesian coordinates of the first end-point.\n",
      "        xb, yb -- Cartesian coordinates of the second end-point.\n",
      "        \"\"\"\n",
      "        self.xa, self.ya = xa, ya\n",
      "        self.xb, self.yb = xb, yb\n",
      "        \n",
      "        self.xc, self.yc = (xa+xb)/2, (ya+yb)/2       # control-point (center-point)\n",
      "        self.length = math.sqrt((xb-xa)**2+(yb-ya)**2)     # length of the panel\n",
      "        \n",
      "        # orientation of the panel (angle between x-axis and panel's normal)\n",
      "        if xb-xa <= 0.:\n",
      "            self.beta = math.acos((yb-ya)/self.length)\n",
      "        elif xb-xa > 0.:\n",
      "            self.beta = math.pi + math.acos(-(yb-ya)/self.length)\n",
      "        \n",
      "        # location of the panel\n",
      "        if self.beta <= math.pi:\n",
      "            self.loc = 'extrados'\n",
      "        else:\n",
      "            self.loc = 'intrados'\n",
      "        \n",
      "        self.sigma = 0.                             # source strength\n",
      "        self.vt = 0.                                # tangential velocity\n",
      "        self.cp = 0.                                # pressure coefficient"
     ],
     "language": "python",
     "metadata": {},
     "outputs": [],
     "prompt_number": 36
    },
    {
     "cell_type": "code",
     "collapsed": false,
     "input": [
      "def define_panels(x, y, N=40):\n",
      "    \"\"\"Discretizes the geometry into panels using 'cosine' method.\n",
      "    \n",
      "    Arguments\n",
      "    ---------\n",
      "    x, y -- Cartesian coordinates of the geometry (1D arrays).\n",
      "    N - number of panels (default 40).\n",
      "    \n",
      "    Returns\n",
      "    -------\n",
      "    panels -- Numpy array of panels.\n",
      "    \"\"\"\n",
      "        \n",
      "    panels = np.empty(N, dtype=object)\n",
      "    for i in xrange(N):\n",
      "        panels[i] = Panel(x[i], y[i], x[i+1], y[i+1])\n",
      "    \n",
      "    return panels"
     ],
     "language": "python",
     "metadata": {},
     "outputs": [],
     "prompt_number": 37
    },
    {
     "cell_type": "code",
     "collapsed": false,
     "input": [
      "#Creats the panels\n",
      "panels = define_panels(x,y,(len(x)-1))\n",
      "# plots the geometry and the panels\n",
      "val_x, val_y = 0.1, 0.2\n",
      "x_min, x_max = min( panel.xa for panel in panels ), max( panel.xa for panel in panels )\n",
      "y_min, y_max = min( panel.ya for panel in panels ), max( panel.ya for panel in panels )\n",
      "x_start, x_end = x_min-val_x*(x_max-x_min), x_max+val_x*(x_max-x_min)\n",
      "y_start, y_end = y_min-val_y*(y_max-y_min), y_max+val_y*(y_max-y_min)\n",
      "\n",
      "size = 10\n",
      "plt.figure(figsize=(size, (y_end-y_start)/(x_end-x_start)*size))\n",
      "plt.grid(True)\n",
      "plt.xlabel('x', fontsize=16)\n",
      "plt.ylabel('y', fontsize=16)\n",
      "plt.xlim(x_start, x_end)\n",
      "plt.ylim(y_start, y_end)\n",
      "plt.plot(x, y, color='k', linestyle='-', linewidth=2)\n",
      "plt.plot(np.append([panel.xa for panel in panels], panels[0].xa), \n",
      "         np.append([panel.ya for panel in panels], panels[0].ya), \n",
      "         linestyle='-', linewidth=1, marker='o', markersize=6, color='#CD2305');"
     ],
     "language": "python",
     "metadata": {},
     "outputs": [
      {
       "metadata": {},
       "output_type": "display_data",
       "png": "[encoded data removed]",
       "text": [
        "<matplotlib.figure.Figure at 0x109fd390>"
       ]
      }
     ],
     "prompt_number": 38
    },
    {
     "cell_type": "code",
     "collapsed": false,
     "input": [
      "class Freestream:\n",
      "    \"\"\"Freestream conditions.\"\"\"\n",
      "    def __init__(self, u_inf=1.0, alpha=0.0):\n",
      "        \"\"\"Sets the freestream conditions.\n",
      "        \n",
      "        Arguments\n",
      "        ---------\n",
      "        u_inf -- Farfield speed (default 1.0).\n",
      "        alpha -- Angle of attack in degrees (default 0.0).\n",
      "        \"\"\"\n",
      "        self.u_inf = u_inf\n",
      "        self.alpha = alpha*math.pi/180          # degrees --> radians"
     ],
     "language": "python",
     "metadata": {},
     "outputs": [],
     "prompt_number": 39
    },
    {
     "cell_type": "code",
     "collapsed": false,
     "input": [
      "# defines and creates the object freestream\n",
      "u_inf = 1.0                                # freestream spee\n",
      "alpha = 5.0                                # angle of attack (in degrees)\n",
      "freestream = Freestream(u_inf, alpha)      # instantiation of the object freestream"
     ],
     "language": "python",
     "metadata": {},
     "outputs": [],
     "prompt_number": 40
    },
    {
     "cell_type": "code",
     "collapsed": false,
     "input": [
      "def integral(x, y, panel, dxdz, dydz):\n",
      "    \"\"\"Evaluates the contribution of a panel at one point.\n",
      "    \n",
      "    Arguments\n",
      "    ---------\n",
      "    x, y -- Cartesian coordinates of the point.\n",
      "    panel -- panel which contribution is evaluated.\n",
      "    dxdz -- derivative of x in the z-direction.\n",
      "    dydz -- derivative of y in the z-direction.\n",
      "    \n",
      "    Returns\n",
      "    -------\n",
      "    Integral over the panel of the influence at one point.\n",
      "    \"\"\"\n",
      "    def func(s):\n",
      "        return ( ((x - (panel.xa - math.sin(panel.beta)*s))*dxdz \n",
      "                  + (y - (panel.ya + math.cos(panel.beta)*s))*dydz)\n",
      "                / ((x - (panel.xa - math.sin(panel.beta)*s))**2 \n",
      "                   + (y - (panel.ya + math.cos(panel.beta)*s))**2) )\n",
      "    return integrate.quad(lambda s:func(s), 0., panel.length)[0]"
     ],
     "language": "python",
     "metadata": {},
     "outputs": [],
     "prompt_number": 41
    },
    {
     "cell_type": "code",
     "collapsed": false,
     "input": [
      "def source_matrix(panels):\n",
      "    \"\"\"Builds the source matrix.\n",
      "    \n",
      "    Arguments\n",
      "    ---------\n",
      "    panels -- array of panels.\n",
      "    \n",
      "    Returns\n",
      "    -------\n",
      "    A -- NxN matrix (N is the number of panels).\n",
      "    \"\"\"\n",
      "    A = np.empty((panels.size, panels.size), dtype=float)\n",
      "    np.fill_diagonal(A, 0.5)\n",
      "    \n",
      "    for i, p_i in enumerate(panels):\n",
      "        for j, p_j in enumerate(panels):\n",
      "            if i != j:\n",
      "                A[i,j] = 0.5/math.pi*integral(p_i.xc, p_i.yc, \n",
      "                                              p_j, \n",
      "                                              math.cos(p_i.beta), math.sin(p_i.beta))\n",
      "    \n",
      "    return A"
     ],
     "language": "python",
     "metadata": {},
     "outputs": [],
     "prompt_number": 42
    },
    {
     "cell_type": "code",
     "collapsed": false,
     "input": [
      "def vortex_array(panels):\n",
      "    \"\"\"Builds the vortex array.\n",
      "    \n",
      "    Arguments\n",
      "    ---------\n",
      "    panels - array of panels.\n",
      "    \n",
      "    Returns\n",
      "    -------\n",
      "    a -- 1D array (Nx1, N is the number of panels).\n",
      "    \"\"\"\n",
      "    a = np.zeros(panels.size, dtype=float)\n",
      "    \n",
      "    for i, p_i in enumerate(panels):\n",
      "        for j, p_j in enumerate(panels):\n",
      "            if i != j:\n",
      "                a[i] -= 0.5/math.pi*integral(p_i.xc, p_i.yc, \n",
      "                                             p_j, \n",
      "                                             math.sin(p_i.beta), -math.cos(p_i.beta))\n",
      "    return a"
     ],
     "language": "python",
     "metadata": {},
     "outputs": [],
     "prompt_number": 43
    },
    {
     "cell_type": "code",
     "collapsed": false,
     "input": [
      "def kutta_array(panels):\n",
      "    \"\"\"Builds the Kutta-condition array.\n",
      "    \n",
      "    Arguments\n",
      "    ---------\n",
      "    panels -- array of panels.\n",
      "    \n",
      "    Returns\n",
      "    -------\n",
      "    a -- 1D array (Nx1, N is the number of panels).\n",
      "    \"\"\"\n",
      "    N = panels.size\n",
      "    a = np.zeros(N+1, dtype=float)\n",
      "    # contribution from the source sheet of the first panel on the last one\n",
      "    a[0] = 0.5/math.pi*integral(panels[N-1].xc, panels[N-1].yc, panels[0], \n",
      "                           -math.sin(panels[N-1].beta), +math.cos(panels[N-1].beta))\n",
      "    # contribution from the source sheet of the last panel on the first one\n",
      "    a[N-1] = 0.5/math.pi*integral(panels[0].xc, panels[0].yc, panels[N-1], \n",
      "                             -math.sin(panels[0].beta), +math.cos(panels[0].beta))\n",
      "    # contribution from the vortex sheet of the first panel on the last one\n",
      "    a[N] -= 0.5/math.pi*integral(panels[-1].xc, panels[-1].yc, panels[0], \n",
      "                               +math.cos(panels[-1].beta), math.sin(panels[-1].beta))\n",
      "    # contribution from the vortex sheet of the last panel on the first one\n",
      "    a[N] -= 0.5/math.pi*integral(panels[0].xc, panels[0].yc, panels[-1], \n",
      "                               +math.cos(panels[0].beta), math.sin(panels[0].beta))\n",
      "    # contribution from the vortex sheet of the first panel on itself\n",
      "    a[N] -= 0.5\n",
      "    # contribution from the vortex sheet of the last panel on itself\n",
      "    a[N] -= 0.5\n",
      " \n",
      "    # contribution from the other panels on the first and last ones\n",
      "    for i, panel in enumerate(panels[1:-1]):\n",
      "        # contribution from the source sheet\n",
      "        a[i+1] = 0.5/math.pi*(integral(panels[0].xc, panels[0].yc, panel, \n",
      "                               -math.sin(panels[0].beta), +math.cos(panels[0].beta))\n",
      "                     + integral(panels[N-1].xc, panels[N-1].yc, panel, \n",
      "                               -math.sin(panels[N-1].beta), +math.cos(panels[N-1].beta)) )\n",
      "\n",
      "        # contribution from the vortex sheet\n",
      "        a[N] -= 0.5/math.pi*(integral(panels[0].xc, panels[0].yc, panel, \n",
      "                               +math.cos(panels[0].beta), math.sin(panels[0].beta))\n",
      "                             + integral(panels[-1].xc, panels[-1].yc, panel, \n",
      "                               +math.cos(panels[-1].beta), math.sin(panels[-1].beta)) )\n",
      "        \n",
      "    return a"
     ],
     "language": "python",
     "metadata": {},
     "outputs": [],
     "prompt_number": 44
    },
    {
     "cell_type": "code",
     "collapsed": false,
     "input": [
      "def build_matrix(panels):\n",
      "    \"\"\"Builds the matrix of the linear system.\n",
      "    \n",
      "    Arguments\n",
      "    ---------\n",
      "    panels -- array of panels.\n",
      "    \n",
      "    Returns\n",
      "    -------\n",
      "    A -- (N+1)x(N+1) matrix (N is the number of panels).\n",
      "    \"\"\"\n",
      "    N = len(panels)\n",
      "    A = np.empty((N+1, N+1), dtype=float)\n",
      "    \n",
      "    AS = source_matrix(panels)\n",
      "    av = vortex_array(panels)\n",
      "    ak = kutta_array(panels)\n",
      "    \n",
      "    A[0:N,0:N], A[0:N,N], A[N,:] = AS[:,:], av[:], ak[:]\n",
      "    \n",
      "    return A"
     ],
     "language": "python",
     "metadata": {},
     "outputs": [],
     "prompt_number": 45
    },
    {
     "cell_type": "code",
     "collapsed": false,
     "input": [
      "def build_rhs(panels, freestream):\n",
      "    \"\"\"Builds the RHS of the linear system.\n",
      "    \n",
      "    Arguments\n",
      "    ---------\n",
      "    panels -- array of panels.\n",
      "    freestream -- farfield conditions.\n",
      "    \n",
      "    Returns\n",
      "    -------\n",
      "    b -- 1D array ((N+1)x1, N is the number of panels).\n",
      "    \"\"\"\n",
      "    N = len(panels)\n",
      "    b = np.empty(N+1,dtype=float)\n",
      "    \n",
      "    for i, panel in enumerate(panels):\n",
      "        b[i] = - freestream.u_inf * math.cos(freestream.alpha - panel.beta)\n",
      "    b[N] = -freestream.u_inf*( math.sin(freestream.alpha-panels[0].beta)\n",
      "                              +math.sin(freestream.alpha-panels[N-1].beta) )\n",
      "    \n",
      "    return b"
     ],
     "language": "python",
     "metadata": {},
     "outputs": [],
     "prompt_number": 46
    },
    {
     "cell_type": "code",
     "collapsed": false,
     "input": [
      "A = build_matrix(panels)                  # calculates the singularity matrix\n",
      "b = build_rhs(panels, freestream)         # calculates the freestream RHS"
     ],
     "language": "python",
     "metadata": {},
     "outputs": [],
     "prompt_number": 47
    },
    {
     "cell_type": "code",
     "collapsed": false,
     "input": [
      "# solves the linear system\n",
      "variables = np.linalg.solve(A, b)\n",
      "\n",
      "for i, panel in enumerate(panels):\n",
      "    panel.sigma = variables[i]\n",
      "gamma = variables[-1]"
     ],
     "language": "python",
     "metadata": {},
     "outputs": [],
     "prompt_number": 48
    },
    {
     "cell_type": "code",
     "collapsed": false,
     "input": [
      "def get_tangential_velocity(panels, freestream, gamma):\n",
      "    \"\"\"Computes the tangential velocity on the surface.\n",
      "    \n",
      "    Arguments\n",
      "    ---------\n",
      "    panels -- array of panels.\n",
      "    freestream -- farfield conditions.\n",
      "    gamma -- circulation density.\n",
      "    \"\"\"\n",
      "    N = len(panels)\n",
      "    A = np.empty((N, N+1), dtype=float)\n",
      "    np.fill_diagonal(A, 0.0)\n",
      "    \n",
      "    for i, p_i in enumerate(panels):\n",
      "        # contribution from vortex on itself\n",
      "        A[i, N] = -0.5\n",
      "        for j, p_j in enumerate(panels):\n",
      "            if i != j:\n",
      "                # contribution from the sources\n",
      "                A[i,j] = 0.5/math.pi*integral(p_i.xc, p_i.yc, \n",
      "                                              p_j, \n",
      "                                              -math.sin(p_i.beta), math.cos(p_i.beta))\n",
      "                # contribution the vortices\n",
      "                A[i,N] -= 0.5/math.pi*integral(p_i.xc, p_i.yc, \n",
      "                                               p_j, \n",
      "                                               math.cos(p_i.beta), math.sin(p_i.beta))\n",
      "\n",
      "    b = freestream.u_inf * np.sin([freestream.alpha - panel.beta for panel in panels])\n",
      "    \n",
      "    var = np.append([panel.sigma for panel in panels], gamma)\n",
      "    \n",
      "    vt = np.dot(A, var) + b\n",
      "    for i, panel in enumerate(panels):\n",
      "        panel.vt = vt[i]"
     ],
     "language": "python",
     "metadata": {},
     "outputs": [],
     "prompt_number": 49
    },
    {
     "cell_type": "code",
     "collapsed": false,
     "input": [
      "# computes the tangential velocity at each panel center.\n",
      "get_tangential_velocity(panels, freestream, gamma)"
     ],
     "language": "python",
     "metadata": {},
     "outputs": [],
     "prompt_number": 50
    },
    {
     "cell_type": "code",
     "collapsed": false,
     "input": [
      "def get_pressure_coefficient(panels, freestream):\n",
      "    \"\"\"Computes the surface pressure coefficients.\n",
      "    \n",
      "    Arguments\n",
      "    ---------\n",
      "    panels -- array of panels.\n",
      "    freestream -- farfield conditions.\n",
      "    \"\"\"\n",
      "    for panel in panels:\n",
      "        panel.cp = 1.0 - (panel.vt/freestream.u_inf)**2"
     ],
     "language": "python",
     "metadata": {},
     "outputs": [],
     "prompt_number": 51
    },
    {
     "cell_type": "code",
     "collapsed": false,
     "input": [
      "# computes surface pressure coefficient\n",
      "get_pressure_coefficient(panels, freestream)"
     ],
     "language": "python",
     "metadata": {},
     "outputs": [],
     "prompt_number": 52
    },
    {
     "cell_type": "code",
     "collapsed": false,
     "input": [
      "# plots the surface pressure coefficient\n",
      "val_x, val_y = 0.1, 0.2\n",
      "x_min, x_max = min( panel.xa for panel in panels ), max( panel.xa for panel in panels )\n",
      "cp_min, cp_max = min( panel.cp for panel in panels ), max( panel.cp for panel in panels )\n",
      "x_start, x_end = x_min-val_x*(x_max-x_min), x_max+val_x*(x_max-x_min)\n",
      "y_start, y_end = cp_min-val_y*(cp_max-cp_min), cp_max+val_y*(cp_max-cp_min)\n",
      "\n",
      "plt.figure(figsize=(10, 6))\n",
      "plt.grid(True)\n",
      "plt.xlabel('x', fontsize=16)\n",
      "plt.ylabel('$C_p$', fontsize=16)\n",
      "plt.plot([panel.xc for panel in panels if panel.loc == 'extrados'], \n",
      "         [panel.cp for panel in panels if panel.loc == 'extrados'], \n",
      "         color='r', linestyle='-', linewidth=2, marker='o', markersize=6)\n",
      "plt.plot([panel.xc for panel in panels if panel.loc == 'intrados'], \n",
      "         [panel.cp for panel in panels if panel.loc == 'intrados'], \n",
      "         color='b', linestyle='-', linewidth=1, marker='o', markersize=6)\n",
      "plt.legend(['lower', 'upper'], loc='best', prop={'size':14})\n",
      "plt.xlim(x_start, x_end)\n",
      "plt.ylim(y_start, y_end)\n",
      "plt.gca().invert_yaxis()\n",
      "plt.title('Number of panels : %d' % N);"
     ],
     "language": "python",
     "metadata": {},
     "outputs": [
      {
       "metadata": {},
       "output_type": "display_data",
       "png": "[encoded data removed]",
       "text": [
        "<matplotlib.figure.Figure at 0x110eada0>"
       ]
      }
     ],
     "prompt_number": 53
    },
    {
     "cell_type": "markdown",
     "metadata": {},
     "source": [
      "**References**\n",
      " - https://www.grc.nasa.gov/WWW/k-12/airplane/geom.html <br>\n",
      " - https://www.flyingfoam.com/content/what-airfoil-should-i-use-0 <br>\n",
      " - http://www.pdas.com/naca456thick4m.html <br>\n",
      " - 'Airfoil Design', Tony Kao (Author) <br>\n",
      " - 'Theory of wing sections',  Ira H. Abbott(Author), A. E. von Doenhoff(Author), Dover Books on Aeronautical Engineering 1959 <br>\n",
      " - 'Using Simple Panel Methods with NACA 4-Series Airfoils', Andrew Cox, 2012\n"
     ]
    },
    {
     "cell_type": "code",
     "collapsed": false,
     "input": [],
     "language": "python",
     "metadata": {},
     "outputs": [],
     "prompt_number": 53
    }
   ],
   "metadata": {}
  }
 ]
}