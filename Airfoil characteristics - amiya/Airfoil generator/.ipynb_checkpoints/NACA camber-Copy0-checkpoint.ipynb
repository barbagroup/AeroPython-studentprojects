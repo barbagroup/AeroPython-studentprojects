{
 "metadata": {
  "name": "",
  "signature": "sha256:08d7474f33be091c07ab73695ad32b733222f333e8c562b3b6af59f3e8923cc3"
 },
 "nbformat": 3,
 "nbformat_minor": 0,
 "worksheets": [
  {
   "cells": [
    {
     "cell_type": "code",
     "collapsed": false,
     "input": [
      "import numpy as np\n",
      "import math\n",
      "import matplotlib.pyplot as plt\n",
      "import csv"
     ],
     "language": "python",
     "metadata": {},
     "outputs": [],
     "prompt_number": 7
    },
    {
     "cell_type": "code",
     "collapsed": false,
     "input": [
      "with open (r'C:\\Users\\Amiya\\Documents\\GWU\\AeroHydro\\Project\\Airfoil characteristics/NACA_2412.dat') as file_name:\n",
      "    x_j, y_j = np.loadtxt(file_name, dtype=float, delimiter='\\t', unpack=True)"
     ],
     "language": "python",
     "metadata": {},
     "outputs": [
      {
       "ename": "ValueError",
       "evalue": "could not convert string to float: NACA 2412",
       "output_type": "pyerr",
       "traceback": [
        "\u001b[1;31m---------------------------------------------------------------------------\u001b[0m\n\u001b[1;31mValueError\u001b[0m                                Traceback (most recent call last)",
        "\u001b[1;32m<ipython-input-8-8baf207bb223>\u001b[0m in \u001b[0;36m<module>\u001b[1;34m()\u001b[0m\n\u001b[0;32m      1\u001b[0m \u001b[1;32mwith\u001b[0m \u001b[0mopen\u001b[0m \u001b[1;33m(\u001b[0m\u001b[1;34mr'C:\\Users\\Amiya\\Documents\\GWU\\AeroHydro\\Project\\Airfoil characteristics/NACA_2412.dat'\u001b[0m\u001b[1;33m)\u001b[0m \u001b[1;32mas\u001b[0m \u001b[0mfile_name\u001b[0m\u001b[1;33m:\u001b[0m\u001b[1;33m\u001b[0m\u001b[0m\n\u001b[1;32m----> 2\u001b[1;33m     \u001b[0mx_j\u001b[0m\u001b[1;33m,\u001b[0m \u001b[0my_j\u001b[0m \u001b[1;33m=\u001b[0m \u001b[0mnp\u001b[0m\u001b[1;33m.\u001b[0m\u001b[0mloadtxt\u001b[0m\u001b[1;33m(\u001b[0m\u001b[0mfile_name\u001b[0m\u001b[1;33m,\u001b[0m \u001b[0mdtype\u001b[0m\u001b[1;33m=\u001b[0m\u001b[0mfloat\u001b[0m\u001b[1;33m,\u001b[0m \u001b[0mdelimiter\u001b[0m\u001b[1;33m=\u001b[0m\u001b[1;34m'\\t'\u001b[0m\u001b[1;33m,\u001b[0m \u001b[0munpack\u001b[0m\u001b[1;33m=\u001b[0m\u001b[0mTrue\u001b[0m\u001b[1;33m)\u001b[0m\u001b[1;33m\u001b[0m\u001b[0m\n\u001b[0m",
        "\u001b[1;32mC:\\Anaconda\\lib\\site-packages\\numpy\\lib\\npyio.pyc\u001b[0m in \u001b[0;36mloadtxt\u001b[1;34m(fname, dtype, comments, delimiter, converters, skiprows, usecols, unpack, ndmin)\u001b[0m\n\u001b[0;32m    854\u001b[0m \u001b[1;33m\u001b[0m\u001b[0m\n\u001b[0;32m    855\u001b[0m             \u001b[1;31m# Convert each value according to its column and store\u001b[0m\u001b[1;33m\u001b[0m\u001b[1;33m\u001b[0m\u001b[0m\n\u001b[1;32m--> 856\u001b[1;33m             \u001b[0mitems\u001b[0m \u001b[1;33m=\u001b[0m \u001b[1;33m[\u001b[0m\u001b[0mconv\u001b[0m\u001b[1;33m(\u001b[0m\u001b[0mval\u001b[0m\u001b[1;33m)\u001b[0m \u001b[1;32mfor\u001b[0m \u001b[1;33m(\u001b[0m\u001b[0mconv\u001b[0m\u001b[1;33m,\u001b[0m \u001b[0mval\u001b[0m\u001b[1;33m)\u001b[0m \u001b[1;32min\u001b[0m \u001b[0mzip\u001b[0m\u001b[1;33m(\u001b[0m\u001b[0mconverters\u001b[0m\u001b[1;33m,\u001b[0m \u001b[0mvals\u001b[0m\u001b[1;33m)\u001b[0m\u001b[1;33m]\u001b[0m\u001b[1;33m\u001b[0m\u001b[0m\n\u001b[0m\u001b[0;32m    857\u001b[0m             \u001b[1;31m# Then pack it according to the dtype's nesting\u001b[0m\u001b[1;33m\u001b[0m\u001b[1;33m\u001b[0m\u001b[0m\n\u001b[0;32m    858\u001b[0m             \u001b[0mitems\u001b[0m \u001b[1;33m=\u001b[0m \u001b[0mpack_items\u001b[0m\u001b[1;33m(\u001b[0m\u001b[0mitems\u001b[0m\u001b[1;33m,\u001b[0m \u001b[0mpacking\u001b[0m\u001b[1;33m)\u001b[0m\u001b[1;33m\u001b[0m\u001b[0m\n",
        "\u001b[1;31mValueError\u001b[0m: could not convert string to float: NACA 2412"
       ]
      }
     ],
     "prompt_number": 8
    },
    {
     "cell_type": "code",
     "collapsed": false,
     "input": [
      "c = 1.0            #chord\n",
      "thickness = 12     #thickness as a percent of chord\n",
      "camber = 2.0       #max camber as a percent of chord\n",
      "camber_loc = 4.0     #location of max camber as 1/10 percent of a chord\n",
      "\n",
      "t = thickness/100           #max thickness as a fraction of the chord\n",
      "m = camber/100\n",
      "p = camber_loc/10   \n",
      "\n",
      "N = 202            #number of points describing airfoil\n",
      "theta_u = np.linspace(0, np.pi, N/2)\n",
      "x = np.linspace(0, c, N/2)\n",
      "theta_l = np.linspace(np.pi, 2*np.pi, N/2)\n",
      "y_t = (t/0.2)*(0.2969*np.sqrt(x) - 0.126*x - 0.3516*x**2 + 0.2843*x**3 - 0.1015*x**4)\n",
      "print theta_u.size, theta_l.size\n",
      "print x.size\n",
      "print y_t.size\n",
      "print y_t[0]\n",
      "plt.plot(x,y_t)"
     ],
     "language": "python",
     "metadata": {},
     "outputs": []
    },
    {
     "cell_type": "code",
     "collapsed": false,
     "input": [
      "x_u = np.zeros(x.size, dtype=float)\n",
      "y_u = np.zeros(x.size, dtype=float)\n",
      "x_l = np.zeros(x.size, dtype=float)\n",
      "y_l = np.zeros(x.size, dtype=float)\n",
      "y_c = np.zeros(x.size, dtype=float)\n",
      "dyc_dx = np.zeros(x.size, dtype=float)\n",
      "\n",
      "for i in range(N/2-1):\n",
      "    if x[i]>p*c:\n",
      "        y_c[i] = (m/(1-p)**2)*((1-(2*p))+(2*p*x[i])-x[i]**2)\n",
      "        dyc_dx[i] = (2*m/(1-p)**2)*(p-x[i])\n",
      "    else:\n",
      "        y_c[i] = (m/p**2)*((2*p*x[i])-x[i]**2)\n",
      "        dyc_dx[i] = (2*m/p**2)*(p-x[i])\n",
      "\n",
      "plt.plot(x[0:N/4],y_c[0:N/4])\n",
      "print y_c[0]"
     ],
     "language": "python",
     "metadata": {},
     "outputs": []
    },
    {
     "cell_type": "code",
     "collapsed": false,
     "input": [
      "x_u = x - y_t*np.sin(np.arctan(dyc_dx))\n",
      "y_u = y_c + y_t*np.cos(np.arctan(dyc_dx))\n",
      "        #print i, x_u[i]\n",
      "    \n",
      "x_l = x + y_t*np.sin(np.arctan(dyc_dx))\n",
      "y_l = y_c - y_t*np.cos(np.arctan(dyc_dx))\n",
      "\n",
      "x_l[0], y_l[0] = x_u[0], y_u[0]\n",
      "x_l[N/2 - 1], y_l[N/2 - 1] = x_u[N/2 - 1], y_u[N/2 - 1]\n",
      "\n",
      "print x_l[0], y_l[0],x_u[0], y_u[0]\n",
      "print x_l[N/2 - 1], y_l[N/2 - 1],x_u[N/2 - 1], y_u[N/2 - 1]"
     ],
     "language": "python",
     "metadata": {},
     "outputs": []
    },
    {
     "cell_type": "code",
     "collapsed": false,
     "input": [
      "#plt.plot(x_u, y_u, marker='x')\n",
      "plt.plot(x_l, y_l, color='#CD2305')\n",
      "plt.plot(x_u, y_u)\n",
      "#plt.scatter(x_j, y_j, marker='o')\n"
     ],
     "language": "python",
     "metadata": {},
     "outputs": []
    },
    {
     "cell_type": "code",
     "collapsed": false,
     "input": [
      "cb = np.zeros(x.size, dtype=float)"
     ],
     "language": "python",
     "metadata": {},
     "outputs": []
    },
    {
     "cell_type": "code",
     "collapsed": false,
     "input": [
      "print x_j.size"
     ],
     "language": "python",
     "metadata": {},
     "outputs": []
    },
    {
     "cell_type": "code",
     "collapsed": false,
     "input": [
      "print x.size"
     ],
     "language": "python",
     "metadata": {},
     "outputs": []
    },
    {
     "cell_type": "code",
     "collapsed": false,
     "input": [],
     "language": "python",
     "metadata": {},
     "outputs": []
    }
   ],
   "metadata": {}
  }
 ]
}