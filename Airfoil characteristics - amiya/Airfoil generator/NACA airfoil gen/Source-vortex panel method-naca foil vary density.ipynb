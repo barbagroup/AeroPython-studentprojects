{
 "metadata": {
  "name": "",
  "signature": "sha256:ad7daac29beb4462e64198961c04cbf1dc6de1c296c5669ddfecbbad4a98032c"
 },
 "nbformat": 3,
 "nbformat_minor": 0,
 "worksheets": [
  {
   "cells": [
    {
     "cell_type": "code",
     "collapsed": false,
     "input": [
      "import math\n",
      "import numpy as np\n",
      "from scipy import integrate\n",
      "import matplotlib.pyplot as plt"
     ],
     "language": "python",
     "metadata": {},
     "outputs": [],
     "prompt_number": 284
    },
    {
     "cell_type": "code",
     "collapsed": false,
     "input": [
      "#Generate airfoil\n",
      "c = 1.0            #chord\n",
      "thickness = 12.0     #thickness as a percent of chord\n",
      "camber = 2.0       #max camber as a percent of chord\n",
      "camber_loc = 4.0     #location of max camber as 1/10 percent of a chord\n",
      "\n",
      "t = thickness/100.0           #max thickness as a fraction of the chord\n",
      "m = camber/100.0\n",
      "p = camber_loc/10.0   \n",
      "\n",
      "r = 1.1019*t**2              #leading edge radius\n",
      "\n",
      "N = 101            #number of points describing airfoil\n",
      "theta_u = np.linspace(0., np.pi, N/2)\n",
      "x_for = np.linspace(0,r,N/10)\n",
      "x_mid = np.linspace(r+r,(0.75*c)-r,1+N/4)\n",
      "x_aft = np.linspace(r + 0.75*c, c, 3*N/20)\n",
      "x1 = np.append(x_for,x_mid)\n",
      "x_chord = np.append(x1,x_aft)\n",
      "\n",
      "#theta_l = np.linspace(np.pi, 2*np.pi, N/2)\n",
      "y_t = (t/0.2)*(0.2969*np.sqrt(x_chord) - 0.126*x_chord - 0.3516*x_chord**2 + 0.2843*x_chord**3 - 0.1015*x_chord**4)\n",
      "\n",
      "print x_chord.size\n",
      "print x_chord[N/2]"
     ],
     "language": "python",
     "metadata": {},
     "outputs": [
      {
       "output_type": "stream",
       "stream": "stdout",
       "text": [
        "51\n",
        "1.0\n"
       ]
      }
     ],
     "prompt_number": 285
    },
    {
     "cell_type": "code",
     "collapsed": false,
     "input": [
      "x_u = np.zeros(x_chord.size, dtype=float)\n",
      "y_u = np.zeros(x_chord.size, dtype=float)\n",
      "x_l = np.zeros(x_chord.size, dtype=float)\n",
      "y_l = np.zeros(x_chord.size, dtype=float)\n",
      "y_c = np.zeros(x_chord.size, dtype=float)\n",
      "dyc_dx = np.zeros(x_chord.size, dtype=float)\n",
      "\n",
      "for i in range(N/2-1):\n",
      "    if x_chord[i]>p*c:\n",
      "        y_c[i] = (m/(1-p)**2)*((1-(2*p))+(2*p*x_chord[i])-x_chord[i]**2)\n",
      "        dyc_dx[i] = (2*m/(1-p)**2)*(p-x_chord[i])\n",
      "    else:\n",
      "        y_c[i] = (m/p**2)*((2*p*x_chord[i])-x_chord[i]**2)\n",
      "        dyc_dx[i] = (2*m/p**2)*(p-x_chord[i])\n",
      "\n",
      "plt.plot(x_chord[0:N/4],y_c[0:N/4])\n",
      "print y_c[0]"
     ],
     "language": "python",
     "metadata": {},
     "outputs": [
      {
       "output_type": "stream",
       "stream": "stdout",
       "text": [
        "0.0\n"
       ]
      },
      {
       "metadata": {},
       "output_type": "display_data",
       "png": "[encoded data removed]",
       "text": [
        "<matplotlib.figure.Figure at 0x7faee0a002d0>"
       ]
      }
     ],
     "prompt_number": 286
    },
    {
     "cell_type": "code",
     "collapsed": false,
     "input": [
      "x_u = x_chord - y_t*np.sin(np.arctan(dyc_dx))\n",
      "y_u = y_c + y_t*np.cos(np.arctan(dyc_dx))\n",
      "        #print i, x_u[i]\n",
      "    \n",
      "x_l = x_chord + y_t*np.sin(np.arctan(dyc_dx))\n",
      "y_l = y_c - y_t*np.cos(np.arctan(dyc_dx))\n",
      "\n",
      "#x_l[0], y_l[0] = x_u[0], y_u[0]\n",
      "#x_l[N/2 - 1], y_l[N/2 - 1] = x_u[N/2 - 1], y_u[N/2 - 1]\n",
      "#x_l[0], y_l[0] = 0.0, 0.0\n",
      "#x_u[0], y_u[0] = 0.0, 0.0\n",
      "#x_l[N/2 - 1], y_l[N/2 - 1] = 1.0, 0.0\n",
      "#x_u[N/2 - 1], y_u[N/2 - 1] = 1.0, 0.0\n",
      "\n",
      "print x_l[0], y_l[0],x_u[0], y_u[0]\n",
      "#print x_l[N/2 - 1], y_l[N/2 - 1],x_u[N/2 - 1], y_u[N/2 - 1]"
     ],
     "language": "python",
     "metadata": {},
     "outputs": [
      {
       "output_type": "stream",
       "stream": "stdout",
       "text": [
        "0.0 0.0 0.0 0.0\n"
       ]
      }
     ],
     "prompt_number": 287
    },
    {
     "cell_type": "code",
     "collapsed": false,
     "input": [
      "plt.scatter(x_l, y_l, color='#CD2305', marker='o')\n",
      "#plt.plot(x_u[N/2 - 1], y_u[N/2 - 1],marker='d',markersize=10,color='k')\n",
      "plt.scatter(x_u, y_u, marker='o' )"
     ],
     "language": "python",
     "metadata": {},
     "outputs": [
      {
       "metadata": {},
       "output_type": "pyout",
       "prompt_number": 288,
       "text": [
        "<matplotlib.collections.PathCollection at 0x7faee09b5610>"
       ]
      },
      {
       "metadata": {},
       "output_type": "display_data",
       "png": "[encoded data removed]",
       "text": [
        "<matplotlib.figure.Figure at 0x7faee0dceb90>"
       ]
      }
     ],
     "prompt_number": 288
    },
    {
     "cell_type": "code",
     "collapsed": false,
     "input": [
      "x = np.concatenate((x_u,list(reversed(x_l))))\n",
      "y = np.concatenate((y_u,list(reversed(y_l))))\n",
      "#x = np.append(x_u,x_l[1:N/2])\n",
      "#y = np.append(y_u,y_l[1:N/2])\n",
      "\n",
      "# plots the geometry\n",
      "%matplotlib inline\n",
      "\n",
      "val_x, val_y = 0.1, 0.2\n",
      "x_min, x_max = x.min(), x.max()\n",
      "y_min, y_max = y.min(), y.max()\n",
      "x_start, x_end = x_min-val_x*(x_max-x_min), x_max+val_x*(x_max-x_min)\n",
      "y_start, y_end = y_min-val_y*(y_max-y_min), y_max+val_y*(y_max-y_min)\n",
      "\n",
      "size = 10\n",
      "pyplot.figure(figsize=(size, (y_end-y_start)/(x_end-x_start)*size))\n",
      "pyplot.grid(True)\n",
      "pyplot.xlabel('x', fontsize=16)\n",
      "pyplot.ylabel('y', fontsize=16)\n",
      "pyplot.xlim(x_start, x_end)\n",
      "pyplot.ylim(y_start, y_end)\n",
      "#pyplot.plot(x, y, color='k', linestyle='-', linewidth=2)\n",
      "pyplot.scatter(x, y, color='k');"
     ],
     "language": "python",
     "metadata": {},
     "outputs": [
      {
       "metadata": {},
       "output_type": "display_data",
       "png": "[encoded data removed]",
       "text": [
        "<matplotlib.figure.Figure at 0x7faee09b6dd0>"
       ]
      }
     ],
     "prompt_number": 289
    },
    {
     "cell_type": "code",
     "collapsed": false,
     "input": [
      "print x_u.size\n",
      "print x.size"
     ],
     "language": "python",
     "metadata": {},
     "outputs": [
      {
       "output_type": "stream",
       "stream": "stdout",
       "text": [
        "51\n",
        "102\n"
       ]
      }
     ],
     "prompt_number": 290
    },
    {
     "cell_type": "code",
     "collapsed": false,
     "input": [
      "class Panel:\n",
      "    \"\"\"Contains information related to one panel.\"\"\"\n",
      "    def __init__(self, xa, ya, xb, yb):\n",
      "        \"\"\"Creates a panel.\n",
      "        \n",
      "        Arguments\n",
      "        ---------\n",
      "        xa, ya -- Cartesian coordinates of the first end-point.\n",
      "        xb, yb -- Cartesian coordinates of the second end-point.\n",
      "        \"\"\"\n",
      "        self.xa, self.ya = xa, ya\n",
      "        self.xb, self.yb = xb, yb\n",
      "        \n",
      "        self.xc, self.yc = (xa+xb)/2, (ya+yb)/2       # control-point (center-point)\n",
      "        self.length = math.sqrt((xb-xa)**2+(yb-ya)**2)     # length of the panel\n",
      "        \n",
      "        # orientation of the panel (angle between x-axis and panel's normal)\n",
      "        if xb-xa <= 0.:\n",
      "            self.beta = math.acos((yb-ya)/self.length)\n",
      "        elif xb-xa > 0.:\n",
      "            self.beta = math.pi + math.acos(-(yb-ya)/self.length)\n",
      "        \n",
      "        # location of the panel\n",
      "        if self.beta <= math.pi:\n",
      "            self.loc = 'extrados'\n",
      "        else:\n",
      "            self.loc = 'intrados'\n",
      "        \n",
      "        self.sigma = 0.                             # source strength\n",
      "        self.vt = 0.                                # tangential velocity\n",
      "        self.cp = 0.                                # pressure coefficient"
     ],
     "language": "python",
     "metadata": {},
     "outputs": [],
     "prompt_number": 291
    },
    {
     "cell_type": "code",
     "collapsed": false,
     "input": [
      "def define_panels(x, y, N=40):\n",
      "    \"\"\"Discretizes the geometry into panels using 'cosine' method.\n",
      "    \n",
      "    Arguments\n",
      "    ---------\n",
      "    x, y -- Cartesian coordinates of the geometry (1D arrays).\n",
      "    N - number of panels (default 40).\n",
      "    \n",
      "    Returns\n",
      "    -------\n",
      "    panels -- Numpy array of panels.\n",
      "    \"\"\"\n",
      "        \n",
      "    panels = np.empty(N, dtype=object)\n",
      "    for i in xrange(N):\n",
      "        panels[i] = Panel(x[i], y[i], x[i+1], y[i+1])\n",
      "    \n",
      "    return panels"
     ],
     "language": "python",
     "metadata": {},
     "outputs": [],
     "prompt_number": 292
    },
    {
     "cell_type": "code",
     "collapsed": false,
     "input": [
      "#N = 100                            # number of panels\n",
      "#anelsu = define_panels(x_u[0:N/2], y_u[0:N/2], N/2)  # discretizes of the geometry into panels\n",
      "#anelsl = define_panels(x_l[0:N/2], y_l[0:N/2], N/2)\n",
      "#panels = np.concatenate((panelsu, panelsl))\n",
      "panels = define_panels(x,y,(len(x)-1))\n",
      "# plots the geometry and the panels\n",
      "val_x, val_y = 0.1, 0.2\n",
      "x_min, x_max = min( panel.xa for panel in panels ), max( panel.xa for panel in panels )\n",
      "y_min, y_max = min( panel.ya for panel in panels ), max( panel.ya for panel in panels )\n",
      "x_start, x_end = x_min-val_x*(x_max-x_min), x_max+val_x*(x_max-x_min)\n",
      "y_start, y_end = y_min-val_y*(y_max-y_min), y_max+val_y*(y_max-y_min)\n",
      "\n",
      "size = 10\n",
      "pyplot.figure(figsize=(size, (y_end-y_start)/(x_end-x_start)*size))\n",
      "pyplot.grid(True)\n",
      "pyplot.xlabel('x', fontsize=16)\n",
      "pyplot.ylabel('y', fontsize=16)\n",
      "pyplot.xlim(x_start, x_end)\n",
      "pyplot.ylim(y_start, y_end)\n",
      "pyplot.plot(x, y, color='k', linestyle='-', linewidth=2)\n",
      "#yplot.plot(x_l, y_l, color='k', linestyle='-', linewidth=2)\n",
      "pyplot.plot(np.append([panel.xa for panel in panels], panels[0].xa), \n",
      "         np.append([panel.ya for panel in panels], panels[0].ya), \n",
      "         linestyle='-', linewidth=1, marker='o', markersize=6, color='#CD2305');"
     ],
     "language": "python",
     "metadata": {},
     "outputs": [
      {
       "metadata": {},
       "output_type": "display_data",
       "png": "[encoded data removed]",
       "text": [
        "<matplotlib.figure.Figure at 0x7faee0c4eb50>"
       ]
      }
     ],
     "prompt_number": 293
    },
    {
     "cell_type": "code",
     "collapsed": false,
     "input": [
      "class Freestream:\n",
      "    \"\"\"Freestream conditions.\"\"\"\n",
      "    def __init__(self, u_inf=1.0, alpha=0.0):\n",
      "        \"\"\"Sets the freestream conditions.\n",
      "        \n",
      "        Arguments\n",
      "        ---------\n",
      "        u_inf -- Farfield speed (default 1.0).\n",
      "        alpha -- Angle of attack in degrees (default 0.0).\n",
      "        \"\"\"\n",
      "        self.u_inf = u_inf\n",
      "        self.alpha = alpha*math.pi/180          # degrees --> radians"
     ],
     "language": "python",
     "metadata": {},
     "outputs": [],
     "prompt_number": 294
    },
    {
     "cell_type": "code",
     "collapsed": false,
     "input": [
      "# defines and creates the object freestream\n",
      "u_inf = 1.0                                # freestream spee\n",
      "alpha = 0.0                                # angle of attack (in degrees)\n",
      "freestream = Freestream(u_inf, alpha)      # instantiation of the object freestream"
     ],
     "language": "python",
     "metadata": {},
     "outputs": [],
     "prompt_number": 295
    },
    {
     "cell_type": "code",
     "collapsed": false,
     "input": [
      "def integral(x, y, panel, dxdz, dydz):\n",
      "    \"\"\"Evaluates the contribution of a panel at one point.\n",
      "    \n",
      "    Arguments\n",
      "    ---------\n",
      "    x, y -- Cartesian coordinates of the point.\n",
      "    panel -- panel which contribution is evaluated.\n",
      "    dxdz -- derivative of x in the z-direction.\n",
      "    dydz -- derivative of y in the z-direction.\n",
      "    \n",
      "    Returns\n",
      "    -------\n",
      "    Integral over the panel of the influence at one point.\n",
      "    \"\"\"\n",
      "    def func(s):\n",
      "        return ( ((x - (panel.xa - math.sin(panel.beta)*s))*dxdz \n",
      "                  + (y - (panel.ya + math.cos(panel.beta)*s))*dydz)\n",
      "                / ((x - (panel.xa - math.sin(panel.beta)*s))**2 \n",
      "                   + (y - (panel.ya + math.cos(panel.beta)*s))**2) )\n",
      "    return integrate.quad(lambda s:func(s), 0., panel.length)[0]"
     ],
     "language": "python",
     "metadata": {},
     "outputs": [],
     "prompt_number": 296
    },
    {
     "cell_type": "code",
     "collapsed": false,
     "input": [
      "def source_matrix(panels):\n",
      "    \"\"\"Builds the source matrix.\n",
      "    \n",
      "    Arguments\n",
      "    ---------\n",
      "    panels -- array of panels.\n",
      "    \n",
      "    Returns\n",
      "    -------\n",
      "    A -- NxN matrix (N is the number of panels).\n",
      "    \"\"\"\n",
      "    A = numpy.empty((panels.size, panels.size), dtype=float)\n",
      "    numpy.fill_diagonal(A, 0.5)\n",
      "    \n",
      "    for i, p_i in enumerate(panels):\n",
      "        for j, p_j in enumerate(panels):\n",
      "            if i != j:\n",
      "                A[i,j] = 0.5/math.pi*integral(p_i.xc, p_i.yc, \n",
      "                                              p_j, \n",
      "                                              math.cos(p_i.beta), math.sin(p_i.beta))\n",
      "    \n",
      "    return A"
     ],
     "language": "python",
     "metadata": {},
     "outputs": [],
     "prompt_number": 297
    },
    {
     "cell_type": "code",
     "collapsed": false,
     "input": [
      "def vortex_array(panels):\n",
      "    \"\"\"Builds the vortex array.\n",
      "    \n",
      "    Arguments\n",
      "    ---------\n",
      "    panels - array of panels.\n",
      "    \n",
      "    Returns\n",
      "    -------\n",
      "    a -- 1D array (Nx1, N is the number of panels).\n",
      "    \"\"\"\n",
      "    a = numpy.zeros(panels.size, dtype=float)\n",
      "    \n",
      "    for i, p_i in enumerate(panels):\n",
      "        for j, p_j in enumerate(panels):\n",
      "            if i != j:\n",
      "                a[i] -= 0.5/math.pi*integral(p_i.xc, p_i.yc, \n",
      "                                             p_j, \n",
      "                                             math.sin(p_i.beta), -math.cos(p_i.beta))\n",
      "    return a"
     ],
     "language": "python",
     "metadata": {},
     "outputs": [],
     "prompt_number": 298
    },
    {
     "cell_type": "code",
     "collapsed": false,
     "input": [
      "def kutta_array(panels):\n",
      "    \"\"\"Builds the Kutta-condition array.\n",
      "    \n",
      "    Arguments\n",
      "    ---------\n",
      "    panels -- array of panels.\n",
      "    \n",
      "    Returns\n",
      "    -------\n",
      "    a -- 1D array (Nx1, N is the number of panels).\n",
      "    \"\"\"\n",
      "    N = panels.size\n",
      "    a = numpy.zeros(N+1, dtype=float)\n",
      "    # contribution from the source sheet of the first panel on the last one\n",
      "    a[0] = 0.5/math.pi*integral(panels[N-1].xc, panels[N-1].yc, panels[0], \n",
      "                           -math.sin(panels[N-1].beta), +math.cos(panels[N-1].beta))\n",
      "    # contribution from the source sheet of the last panel on the first one\n",
      "    a[N-1] = 0.5/math.pi*integral(panels[0].xc, panels[0].yc, panels[N-1], \n",
      "                             -math.sin(panels[0].beta), +math.cos(panels[0].beta))\n",
      "    # contribution from the vortex sheet of the first panel on the last one\n",
      "    a[N] -= 0.5/math.pi*integral(panels[-1].xc, panels[-1].yc, panels[0], \n",
      "                               +math.cos(panels[-1].beta), math.sin(panels[-1].beta))\n",
      "    # contribution from the vortex sheet of the last panel on the first one\n",
      "    a[N] -= 0.5/math.pi*integral(panels[0].xc, panels[0].yc, panels[-1], \n",
      "                               +math.cos(panels[0].beta), math.sin(panels[0].beta))\n",
      "    # contribution from the vortex sheet of the first panel on itself\n",
      "    a[N] -= 0.5\n",
      "    # contribution from the vortex sheet of the last panel on itself\n",
      "    a[N] -= 0.5\n",
      " \n",
      "    # contribution from the other panels on the first and last ones\n",
      "    for i, panel in enumerate(panels[1:-1]):\n",
      "        # contribution from the source sheet\n",
      "        a[i+1] = 0.5/math.pi*(integral(panels[0].xc, panels[0].yc, panel, \n",
      "                               -math.sin(panels[0].beta), +math.cos(panels[0].beta))\n",
      "                     + integral(panels[N-1].xc, panels[N-1].yc, panel, \n",
      "                               -math.sin(panels[N-1].beta), +math.cos(panels[N-1].beta)) )\n",
      "\n",
      "        # contribution from the vortex sheet\n",
      "        a[N] -= 0.5/math.pi*(integral(panels[0].xc, panels[0].yc, panel, \n",
      "                               +math.cos(panels[0].beta), math.sin(panels[0].beta))\n",
      "                             + integral(panels[-1].xc, panels[-1].yc, panel, \n",
      "                               +math.cos(panels[-1].beta), math.sin(panels[-1].beta)) )\n",
      "        \n",
      "    return a"
     ],
     "language": "python",
     "metadata": {},
     "outputs": [],
     "prompt_number": 299
    },
    {
     "cell_type": "code",
     "collapsed": false,
     "input": [
      "def build_matrix(panels):\n",
      "    \"\"\"Builds the matrix of the linear system.\n",
      "    \n",
      "    Arguments\n",
      "    ---------\n",
      "    panels -- array of panels.\n",
      "    \n",
      "    Returns\n",
      "    -------\n",
      "    A -- (N+1)x(N+1) matrix (N is the number of panels).\n",
      "    \"\"\"\n",
      "    N = len(panels)\n",
      "    A = numpy.empty((N+1, N+1), dtype=float)\n",
      "    \n",
      "    AS = source_matrix(panels)\n",
      "    av = vortex_array(panels)\n",
      "    ak = kutta_array(panels)\n",
      "    \n",
      "    A[0:N,0:N], A[0:N,N], A[N,:] = AS[:,:], av[:], ak[:]\n",
      "    \n",
      "    return A"
     ],
     "language": "python",
     "metadata": {},
     "outputs": [],
     "prompt_number": 300
    },
    {
     "cell_type": "code",
     "collapsed": false,
     "input": [
      "def build_rhs(panels, freestream):\n",
      "    \"\"\"Builds the RHS of the linear system.\n",
      "    \n",
      "    Arguments\n",
      "    ---------\n",
      "    panels -- array of panels.\n",
      "    freestream -- farfield conditions.\n",
      "    \n",
      "    Returns\n",
      "    -------\n",
      "    b -- 1D array ((N+1)x1, N is the number of panels).\n",
      "    \"\"\"\n",
      "    N = len(panels)\n",
      "    b = numpy.empty(N+1,dtype=float)\n",
      "    \n",
      "    for i, panel in enumerate(panels):\n",
      "        b[i] = - freestream.u_inf * math.cos(freestream.alpha - panel.beta)\n",
      "    b[N] = -freestream.u_inf*( math.sin(freestream.alpha-panels[0].beta)\n",
      "                              +math.sin(freestream.alpha-panels[N-1].beta) )\n",
      "    \n",
      "    return b"
     ],
     "language": "python",
     "metadata": {},
     "outputs": [],
     "prompt_number": 301
    },
    {
     "cell_type": "code",
     "collapsed": false,
     "input": [
      "A = build_matrix(panels)                  # calculates the singularity matrix\n",
      "b = build_rhs(panels, freestream)         # calculates the freestream RHS"
     ],
     "language": "python",
     "metadata": {},
     "outputs": [],
     "prompt_number": 302
    },
    {
     "cell_type": "code",
     "collapsed": false,
     "input": [
      "# solves the linear system\n",
      "variables = numpy.linalg.solve(A, b)\n",
      "\n",
      "for i, panel in enumerate(panels):\n",
      "    panel.sigma = variables[i]\n",
      "gamma = variables[-1]"
     ],
     "language": "python",
     "metadata": {},
     "outputs": [],
     "prompt_number": 303
    },
    {
     "cell_type": "code",
     "collapsed": false,
     "input": [
      "def get_tangential_velocity(panels, freestream, gamma):\n",
      "    \"\"\"Computes the tangential velocity on the surface.\n",
      "    \n",
      "    Arguments\n",
      "    ---------\n",
      "    panels -- array of panels.\n",
      "    freestream -- farfield conditions.\n",
      "    gamma -- circulation density.\n",
      "    \"\"\"\n",
      "    N = len(panels)\n",
      "    A = numpy.empty((N, N+1), dtype=float)\n",
      "    numpy.fill_diagonal(A, 0.0)\n",
      "    \n",
      "    for i, p_i in enumerate(panels):\n",
      "        # contribution from vortex on itself\n",
      "        A[i, N] = -0.5\n",
      "        for j, p_j in enumerate(panels):\n",
      "            if i != j:\n",
      "                # contribution from the sources\n",
      "                A[i,j] = 0.5/math.pi*integral(p_i.xc, p_i.yc, \n",
      "                                              p_j, \n",
      "                                              -math.sin(p_i.beta), math.cos(p_i.beta))\n",
      "                # contribution the vortices\n",
      "                A[i,N] -= 0.5/math.pi*integral(p_i.xc, p_i.yc, \n",
      "                                               p_j, \n",
      "                                               math.cos(p_i.beta), math.sin(p_i.beta))\n",
      "\n",
      "    b = freestream.u_inf * numpy.sin([freestream.alpha - panel.beta for panel in panels])\n",
      "    \n",
      "    var = numpy.append([panel.sigma for panel in panels], gamma)\n",
      "    \n",
      "    vt = numpy.dot(A, var) + b\n",
      "    for i, panel in enumerate(panels):\n",
      "        panel.vt = vt[i]"
     ],
     "language": "python",
     "metadata": {},
     "outputs": [],
     "prompt_number": 304
    },
    {
     "cell_type": "code",
     "collapsed": false,
     "input": [
      "# computes the tangential velocity at each panel center.\n",
      "get_tangential_velocity(panels, freestream, gamma)"
     ],
     "language": "python",
     "metadata": {},
     "outputs": [],
     "prompt_number": 305
    },
    {
     "cell_type": "code",
     "collapsed": false,
     "input": [
      "def get_pressure_coefficient(panels, freestream):\n",
      "    \"\"\"Computes the surface pressure coefficients.\n",
      "    \n",
      "    Arguments\n",
      "    ---------\n",
      "    panels -- array of panels.\n",
      "    freestream -- farfield conditions.\n",
      "    \"\"\"\n",
      "    for panel in panels:\n",
      "        panel.cp = 1.0 - (panel.vt/freestream.u_inf)**2"
     ],
     "language": "python",
     "metadata": {},
     "outputs": [],
     "prompt_number": 306
    },
    {
     "cell_type": "code",
     "collapsed": false,
     "input": [
      "# computes surface pressure coefficient\n",
      "get_pressure_coefficient(panels, freestream)"
     ],
     "language": "python",
     "metadata": {},
     "outputs": [],
     "prompt_number": 307
    },
    {
     "cell_type": "code",
     "collapsed": false,
     "input": [
      "# plots the surface pressure coefficient\n",
      "val_x, val_y = 0.1, 0.2\n",
      "x_min, x_max = min( panel.xa for panel in panels ), max( panel.xa for panel in panels )\n",
      "cp_min, cp_max = min( panel.cp for panel in panels ), max( panel.cp for panel in panels )\n",
      "x_start, x_end = x_min-val_x*(x_max-x_min), x_max+val_x*(x_max-x_min)\n",
      "y_start, y_end = cp_min-val_y*(cp_max-cp_min), cp_max+val_y*(cp_max-cp_min)\n",
      "\n",
      "pyplot.figure(figsize=(10, 6))\n",
      "pyplot.grid(True)\n",
      "pyplot.xlabel('x', fontsize=16)\n",
      "pyplot.ylabel('$C_p$', fontsize=16)\n",
      "pyplot.plot([panel.xc for panel in panels if panel.loc == 'extrados'], \n",
      "         [panel.cp for panel in panels if panel.loc == 'extrados'], \n",
      "         color='r', linestyle='-', linewidth=2, marker='o', markersize=6)\n",
      "pyplot.plot([panel.xc for panel in panels if panel.loc == 'intrados'], \n",
      "         [panel.cp for panel in panels if panel.loc == 'intrados'], \n",
      "         color='b', linestyle='-', linewidth=1, marker='o', markersize=6)\n",
      "pyplot.legend(['lower', 'upper'], loc='best', prop={'size':14})\n",
      "pyplot.xlim(x_start, x_end)\n",
      "pyplot.ylim(y_start, y_end)\n",
      "pyplot.gca().invert_yaxis()\n",
      "pyplot.title('Number of panels : %d' % N);"
     ],
     "language": "python",
     "metadata": {},
     "outputs": [
      {
       "metadata": {},
       "output_type": "display_data",
       "png": "[encoded data removed]",
       "text": [
        "<matplotlib.figure.Figure at 0x7faee0a2fc10>"
       ]
      }
     ],
     "prompt_number": 308
    },
    {
     "cell_type": "code",
     "collapsed": false,
     "input": [
      "# calculates the accuracy\n",
      "accuracy = sum([panel.sigma*panel.length for panel in panels])\n",
      "print '--> sum of source/sink strengths:', accuracy"
     ],
     "language": "python",
     "metadata": {},
     "outputs": [
      {
       "output_type": "stream",
       "stream": "stdout",
       "text": [
        "--> sum of source/sink strengths: 0.384916029442\n"
       ]
      }
     ],
     "prompt_number": 309
    },
    {
     "cell_type": "code",
     "collapsed": false,
     "input": [
      "# calculates of the lift\n",
      "cl = gamma*sum(panel.length for panel in panels)/(0.5*freestream.u_inf*(x_max-x_min))\n",
      "print '--> Lift coefficient: Cl = %.3f' % cl"
     ],
     "language": "python",
     "metadata": {},
     "outputs": [
      {
       "output_type": "stream",
       "stream": "stdout",
       "text": [
        "--> Lift coefficient: Cl = 1.185\n"
       ]
      }
     ],
     "prompt_number": 310
    },
    {
     "cell_type": "code",
     "collapsed": false,
     "input": [
      "total_panels = len(panels)\n",
      "lift=0.0\n",
      "for panel in enumerate(panels):\n",
      "    lift -= [panel.cp for panel in panels] * [panel.length for panel in panels] * math.sin([panel.beta for panel in panels])\n",
      "print lift"
     ],
     "language": "python",
     "metadata": {},
     "outputs": [
      {
       "ename": "TypeError",
       "evalue": "can't multiply sequence by non-int of type 'list'",
       "output_type": "pyerr",
       "traceback": [
        "\u001b[1;31m---------------------------------------------------------------------------\u001b[0m\n\u001b[1;31mTypeError\u001b[0m                                 Traceback (most recent call last)",
        "\u001b[1;32m<ipython-input-311-f053e06fc36d>\u001b[0m in \u001b[0;36m<module>\u001b[1;34m()\u001b[0m\n\u001b[0;32m      2\u001b[0m \u001b[0mlift\u001b[0m\u001b[1;33m=\u001b[0m\u001b[1;36m0.0\u001b[0m\u001b[1;33m\u001b[0m\u001b[0m\n\u001b[0;32m      3\u001b[0m \u001b[1;32mfor\u001b[0m \u001b[0mpanel\u001b[0m \u001b[1;32min\u001b[0m \u001b[0menumerate\u001b[0m\u001b[1;33m(\u001b[0m\u001b[0mpanels\u001b[0m\u001b[1;33m)\u001b[0m\u001b[1;33m:\u001b[0m\u001b[1;33m\u001b[0m\u001b[0m\n\u001b[1;32m----> 4\u001b[1;33m     \u001b[0mlift\u001b[0m \u001b[1;33m-=\u001b[0m \u001b[1;33m[\u001b[0m\u001b[0mpanel\u001b[0m\u001b[1;33m.\u001b[0m\u001b[0mcp\u001b[0m \u001b[1;32mfor\u001b[0m \u001b[0mpanel\u001b[0m \u001b[1;32min\u001b[0m \u001b[0mpanels\u001b[0m\u001b[1;33m]\u001b[0m \u001b[1;33m*\u001b[0m \u001b[1;33m[\u001b[0m\u001b[0mpanel\u001b[0m\u001b[1;33m.\u001b[0m\u001b[0mlength\u001b[0m \u001b[1;32mfor\u001b[0m \u001b[0mpanel\u001b[0m \u001b[1;32min\u001b[0m \u001b[0mpanels\u001b[0m\u001b[1;33m]\u001b[0m \u001b[1;33m*\u001b[0m \u001b[0mmath\u001b[0m\u001b[1;33m.\u001b[0m\u001b[0msin\u001b[0m\u001b[1;33m(\u001b[0m\u001b[1;33m[\u001b[0m\u001b[0mpanel\u001b[0m\u001b[1;33m.\u001b[0m\u001b[0mbeta\u001b[0m \u001b[1;32mfor\u001b[0m \u001b[0mpanel\u001b[0m \u001b[1;32min\u001b[0m \u001b[0mpanels\u001b[0m\u001b[1;33m]\u001b[0m\u001b[1;33m)\u001b[0m\u001b[1;33m\u001b[0m\u001b[0m\n\u001b[0m\u001b[0;32m      5\u001b[0m \u001b[1;32mprint\u001b[0m \u001b[0mlift\u001b[0m\u001b[1;33m\u001b[0m\u001b[0m\n",
        "\u001b[1;31mTypeError\u001b[0m: can't multiply sequence by non-int of type 'list'"
       ]
      }
     ],
     "prompt_number": 311
    },
    {
     "cell_type": "code",
     "collapsed": false,
     "input": [
      "print math.sin(panel.beta)"
     ],
     "language": "python",
     "metadata": {},
     "outputs": []
    },
    {
     "cell_type": "code",
     "collapsed": false,
     "input": [],
     "language": "python",
     "metadata": {},
     "outputs": []
    },
    {
     "cell_type": "code",
     "collapsed": false,
     "input": [
      "print len(panels)"
     ],
     "language": "python",
     "metadata": {},
     "outputs": []
    }
   ],
   "metadata": {}
  }
 ]
}